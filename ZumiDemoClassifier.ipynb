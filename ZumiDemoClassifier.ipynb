{
  "nbformat": 4,
  "nbformat_minor": 0,
  "metadata": {
    "colab": {
      "name": "ZumiDemoClassifier.ipynb",
      "version": "0.3.2",
      "provenance": [],
      "collapsed_sections": [],
      "include_colab_link": true
    },
    "kernelspec": {
      "name": "python3",
      "display_name": "Python 3"
    },
    "accelerator": "TPU"
  },
  "cells": [
    {
      "cell_type": "markdown",
      "metadata": {
        "id": "view-in-github",
        "colab_type": "text"
      },
      "source": [
        "<a href=\"https://colab.research.google.com/github/RobolinkInc/zumi/blob/master/ZumiDemoClassifier.ipynb\" target=\"_parent\"><img src=\"https://colab.research.google.com/assets/colab-badge.svg\" alt=\"Open In Colab\"/></a>"
      ]
    },
    {
      "metadata": {
        "id": "PESAbvqxd4m_",
        "colab_type": "text"
      },
      "cell_type": "markdown",
      "source": [
        "#Apple Coke Keras Classifier\n",
        "Find this at [bit.ly/robolinkmldemo](https://)"
      ]
    },
    {
      "metadata": {
        "id": "Myfpe6MqltQb",
        "colab_type": "code",
        "colab": {
          "base_uri": "https://localhost:8080/",
          "height": 34
        },
        "outputId": "0b2fcbbd-ccc6-418e-c613-f7a8bd25d8bc"
      },
      "cell_type": "code",
      "source": [
        "from keras.preprocessing.image import ImageDataGenerator\n",
        "from keras.models import Sequential\n",
        "from keras.layers import Conv2D, MaxPooling2D\n",
        "from keras.layers import Activation, Dropout, Flatten, Dense\n",
        "from keras import backend as K\n",
        "from google.colab import drive\n",
        "drive.mount(\"/content/drive\")\n",
        "\n",
        "import cv2"
      ],
      "execution_count": 4,
      "outputs": [
        {
          "output_type": "stream",
          "text": [
            "Mounted at /content/drive\n"
          ],
          "name": "stdout"
        }
      ]
    },
    {
      "metadata": {
        "id": "N-dZQAOkMVWt",
        "colab_type": "code",
        "colab": {
          "base_uri": "https://localhost:8080/",
          "height": 34
        },
        "outputId": "33ea6a7f-74df-487a-e3c7-98d202283d6e"
      },
      "cell_type": "code",
      "source": [
        "!ls '/content/drive/My Drive/Zümi/Deep Learning Data/tourist'"
      ],
      "execution_count": 2,
      "outputs": [
        {
          "output_type": "stream",
          "text": [
            "ls: cannot access '/content/drive/My Drive/Zümi/Deep Learning Data/tourist': No such file or directory\n"
          ],
          "name": "stdout"
        }
      ]
    },
    {
      "metadata": {
        "id": "wEstqYUMBjVO",
        "colab_type": "text"
      },
      "cell_type": "markdown",
      "source": [
        "# Setting Initial Parameters"
      ]
    },
    {
      "metadata": {
        "id": "gqQoS1FGoCun",
        "colab_type": "code",
        "colab": {}
      },
      "cell_type": "code",
      "source": [
        "img_width, img_height = 150, 150\n",
        "\n",
        "train_data_dir = '/content/drive/My Drive/train2/'\n",
        "validation_data_dir = '/content/drive/My Drive/val2/'\n",
        "nb_train_samples = 1590\n",
        "nb_validation_samples = 154\n",
        "epochs = 30\n",
        "batch_size = 16\n",
        "\n",
        "if K.image_data_format() == 'channels_first':\n",
        "    input_shape = (3, img_width, img_height)\n",
        "else:\n",
        "    input_shape = (img_width, img_height, 3)\n",
        "\n",
        "#img = cv2.imread('/content/drive/My Drive/train2/1.png',1)\n",
        "#from IPython.display import Image\n",
        "#Image('/content/drive/My\\ Drive/train2/apple/1.png')"
      ],
      "execution_count": 0,
      "outputs": []
    },
    {
      "metadata": {
        "id": "djkaahzzBrCA",
        "colab_type": "text"
      },
      "cell_type": "markdown",
      "source": [
        "# Neural Network Architecture"
      ]
    },
    {
      "metadata": {
        "id": "OnbSLsmOoFNk",
        "colab_type": "code",
        "colab": {}
      },
      "cell_type": "code",
      "source": [
        "model = Sequential()\n",
        "model.add(Conv2D(32, (3, 3), input_shape=input_shape))\n",
        "model.add(Activation('relu'))\n",
        "model.add(MaxPooling2D(pool_size=(2, 2)))\n",
        "\n",
        "model.add(Conv2D(32, (3, 3)))\n",
        "model.add(Activation('relu'))\n",
        "model.add(MaxPooling2D(pool_size=(2, 2)))\n",
        "\n",
        "model.add(Conv2D(64, (3, 3)))\n",
        "model.add(Activation('relu'))\n",
        "model.add(MaxPooling2D(pool_size=(2, 2)))\n",
        "\n",
        "model.add(Flatten())\n",
        "model.add(Dense(64))\n",
        "model.add(Activation('relu'))\n",
        "model.add(Dropout(0.5))\n",
        "model.add(Dense(3))\n",
        "model.add(Activation('sigmoid'))"
      ],
      "execution_count": 0,
      "outputs": []
    },
    {
      "metadata": {
        "id": "kjO2yxjvoG7M",
        "colab_type": "code",
        "colab": {}
      },
      "cell_type": "code",
      "source": [
        "model.compile(loss='categorical_crossentropy',\n",
        "              optimizer='adam',\n",
        "              metrics=['accuracy'])"
      ],
      "execution_count": 0,
      "outputs": []
    },
    {
      "metadata": {
        "id": "jvaQRG4bB0bO",
        "colab_type": "text"
      },
      "cell_type": "markdown",
      "source": [
        "# Data Augmentation\n",
        "Increase the number of training images"
      ]
    },
    {
      "metadata": {
        "id": "PFFS3GZDoIo-",
        "colab_type": "code",
        "colab": {}
      },
      "cell_type": "code",
      "source": [
        "train_datagen = ImageDataGenerator(\n",
        "    rescale=1. / 255,\n",
        "    shear_range=0.2,\n",
        "    zoom_range=0.2,\n",
        "    horizontal_flip=True)"
      ],
      "execution_count": 0,
      "outputs": []
    },
    {
      "metadata": {
        "id": "JVvSizzioVau",
        "colab_type": "code",
        "colab": {
          "base_uri": "https://localhost:8080/",
          "height": 51
        },
        "outputId": "19a5bfd3-0486-4b17-fde3-0d918648cbde"
      },
      "cell_type": "code",
      "source": [
        "\n",
        "test_datagen = ImageDataGenerator(rescale=1. / 255)\n",
        "\n",
        "train_generator = train_datagen.flow_from_directory(\n",
        "    train_data_dir,\n",
        "    target_size=(img_width, img_height),\n",
        "    batch_size=batch_size,\n",
        "    class_mode='categorical')\n",
        "\n",
        "validation_generator = test_datagen.flow_from_directory(\n",
        "    validation_data_dir,\n",
        "    target_size=(img_width, img_height),\n",
        "    batch_size=batch_size,\n",
        "    class_mode='categorical')"
      ],
      "execution_count": 32,
      "outputs": [
        {
          "output_type": "stream",
          "text": [
            "Found 1833 images belonging to 3 classes.\n",
            "Found 191 images belonging to 3 classes.\n"
          ],
          "name": "stdout"
        }
      ]
    },
    {
      "metadata": {
        "id": "Qqp7aRmwB9Eu",
        "colab_type": "text"
      },
      "cell_type": "markdown",
      "source": [
        "# Training\n",
        "\"acc\" is the accuracy on the training data,\n",
        "\"val_acc\" is the accuracy on the testing data"
      ]
    },
    {
      "metadata": {
        "id": "6_3O3UN_oXE1",
        "colab_type": "code",
        "colab": {
          "base_uri": "https://localhost:8080/",
          "height": 1057
        },
        "outputId": "3c0c2607-848e-4174-dbc2-7ed7ddae5ca2"
      },
      "cell_type": "code",
      "source": [
        "model.fit_generator(\n",
        "    train_generator,\n",
        "    steps_per_epoch=nb_train_samples // batch_size,\n",
        "    epochs=epochs,\n",
        "    validation_data=validation_generator,\n",
        "    validation_steps=nb_validation_samples // batch_size\n",
        "    )\n",
        "\n",
        "model.save('/content/drive/My Drive/models/third_try.h5')"
      ],
      "execution_count": 33,
      "outputs": [
        {
          "output_type": "stream",
          "text": [
            "Epoch 1/30\n",
            "99/99 [==============================] - 142s 1s/step - loss: 0.7160 - acc: 0.6821 - val_loss: 0.5446 - val_acc: 0.9583\n",
            "Epoch 2/30\n",
            "99/99 [==============================] - 73s 736ms/step - loss: 0.4748 - acc: 0.8240 - val_loss: 0.5268 - val_acc: 0.9583\n",
            "Epoch 3/30\n",
            "99/99 [==============================] - 73s 737ms/step - loss: 0.3878 - acc: 0.8617 - val_loss: 0.4238 - val_acc: 0.9583\n",
            "Epoch 4/30\n",
            "99/99 [==============================] - 74s 744ms/step - loss: 0.3124 - acc: 0.8846 - val_loss: 0.4959 - val_acc: 0.9514\n",
            "Epoch 5/30\n",
            "99/99 [==============================] - 73s 734ms/step - loss: 0.2897 - acc: 0.8968 - val_loss: 0.5427 - val_acc: 0.9444\n",
            "Epoch 6/30\n",
            "99/99 [==============================] - 72s 731ms/step - loss: 0.2660 - acc: 0.9069 - val_loss: 0.3249 - val_acc: 0.9514\n",
            "Epoch 7/30\n",
            "99/99 [==============================] - 73s 733ms/step - loss: 0.2386 - acc: 0.9089 - val_loss: 0.2117 - val_acc: 0.9375\n",
            "Epoch 8/30\n",
            "99/99 [==============================] - 73s 737ms/step - loss: 0.2290 - acc: 0.9268 - val_loss: 0.2805 - val_acc: 0.9444\n",
            "Epoch 9/30\n",
            "99/99 [==============================] - 73s 739ms/step - loss: 0.2540 - acc: 0.9031 - val_loss: 0.2686 - val_acc: 0.9306\n",
            "Epoch 10/30\n",
            "99/99 [==============================] - 72s 730ms/step - loss: 0.2214 - acc: 0.9231 - val_loss: 0.4776 - val_acc: 0.9653\n",
            "Epoch 11/30\n",
            "99/99 [==============================] - 72s 732ms/step - loss: 0.2065 - acc: 0.9306 - val_loss: 0.2359 - val_acc: 0.9583\n",
            "Epoch 12/30\n",
            "99/99 [==============================] - 73s 734ms/step - loss: 0.2073 - acc: 0.9261 - val_loss: 0.4837 - val_acc: 0.9653\n",
            "Epoch 13/30\n",
            "99/99 [==============================] - 73s 737ms/step - loss: 0.1763 - acc: 0.9337 - val_loss: 0.3636 - val_acc: 0.9514\n",
            "Epoch 14/30\n",
            "99/99 [==============================] - 72s 728ms/step - loss: 0.1895 - acc: 0.9313 - val_loss: 0.2518 - val_acc: 0.9583\n",
            "Epoch 15/30\n",
            "99/99 [==============================] - 73s 733ms/step - loss: 0.1487 - acc: 0.9501 - val_loss: 0.3358 - val_acc: 0.9583\n",
            "Epoch 16/30\n",
            "99/99 [==============================] - 73s 735ms/step - loss: 0.1498 - acc: 0.9457 - val_loss: 0.2319 - val_acc: 0.9514\n",
            "Epoch 17/30\n",
            "99/99 [==============================] - 73s 737ms/step - loss: 0.1494 - acc: 0.9578 - val_loss: 0.2396 - val_acc: 0.9514\n",
            "Epoch 18/30\n",
            "99/99 [==============================] - 73s 734ms/step - loss: 0.1608 - acc: 0.9438 - val_loss: 0.2828 - val_acc: 0.9583\n",
            "Epoch 19/30\n",
            "99/99 [==============================] - 72s 730ms/step - loss: 0.1446 - acc: 0.9419 - val_loss: 0.3947 - val_acc: 0.9583\n",
            "Epoch 20/30\n",
            "99/99 [==============================] - 72s 729ms/step - loss: 0.1769 - acc: 0.9249 - val_loss: 0.1369 - val_acc: 0.9653\n",
            "Epoch 21/30\n",
            "99/99 [==============================] - 73s 739ms/step - loss: 0.1555 - acc: 0.9528 - val_loss: 0.2892 - val_acc: 0.9583\n",
            "Epoch 22/30\n",
            "99/99 [==============================] - 72s 731ms/step - loss: 0.1145 - acc: 0.9564 - val_loss: 0.3396 - val_acc: 0.9444\n",
            "Epoch 23/30\n",
            "99/99 [==============================] - 73s 736ms/step - loss: 0.1081 - acc: 0.9585 - val_loss: 0.2704 - val_acc: 0.9514\n",
            "Epoch 24/30\n",
            "99/99 [==============================] - 72s 732ms/step - loss: 0.0981 - acc: 0.9585 - val_loss: 0.1964 - val_acc: 0.9653\n",
            "Epoch 25/30\n",
            "99/99 [==============================] - 73s 733ms/step - loss: 0.1121 - acc: 0.9561 - val_loss: 0.1589 - val_acc: 0.9583\n",
            "Epoch 26/30\n",
            "99/99 [==============================] - 74s 744ms/step - loss: 0.2169 - acc: 0.9324 - val_loss: 0.3931 - val_acc: 0.9514\n",
            "Epoch 27/30\n",
            "99/99 [==============================] - 72s 732ms/step - loss: 0.1375 - acc: 0.9526 - val_loss: 0.3474 - val_acc: 0.9514\n",
            "Epoch 28/30\n",
            "99/99 [==============================] - 72s 732ms/step - loss: 0.1110 - acc: 0.9564 - val_loss: 0.4296 - val_acc: 0.9444\n",
            "Epoch 29/30\n",
            "99/99 [==============================] - 72s 726ms/step - loss: 0.1431 - acc: 0.9526 - val_loss: 0.2016 - val_acc: 0.9375\n",
            "Epoch 30/30\n",
            "99/99 [==============================] - 74s 747ms/step - loss: 0.1124 - acc: 0.9602 - val_loss: 0.3679 - val_acc: 0.9444\n"
          ],
          "name": "stdout"
        }
      ]
    },
    {
      "metadata": {
        "id": "wg84L4yRB7-t",
        "colab_type": "text"
      },
      "cell_type": "markdown",
      "source": [
        "# Prediction\n",
        "This prints the Neural Network's best guess of an image"
      ]
    },
    {
      "metadata": {
        "id": "meDah4mUuKf5",
        "colab_type": "code",
        "colab": {
          "base_uri": "https://localhost:8080/",
          "height": 51
        },
        "outputId": "f82a4752-2320-4223-f8f9-ad10a2408fb2"
      },
      "cell_type": "code",
      "source": [
        "import numpy as np\n",
        "options={0:\"apple\", 1:\"try again\", 2:\"coke\"}\n",
        "from keras.preprocessing.image import img_to_array, load_img\n",
        "img = load_img('/content/drive/My Drive/val2/apple/784.png',False,target_size=(img_width,img_height))\n",
        "x = img_to_array(img)\n",
        "x = np.expand_dims(x, axis=0)\n",
        "preds = model.predict_classes(x)\n",
        "prob = model.predict_proba(x)\n",
        "print(options[int(preds)])\n",
        "print(prob)\n"
      ],
      "execution_count": 38,
      "outputs": [
        {
          "output_type": "stream",
          "text": [
            "apple\n",
            "[[1. 0. 0.]]\n"
          ],
          "name": "stdout"
        }
      ]
    },
    {
      "metadata": {
        "id": "D5PxsoRNBQwz",
        "colab_type": "code",
        "colab": {}
      },
      "cell_type": "code",
      "source": [
        ""
      ],
      "execution_count": 0,
      "outputs": []
    }
  ]
}