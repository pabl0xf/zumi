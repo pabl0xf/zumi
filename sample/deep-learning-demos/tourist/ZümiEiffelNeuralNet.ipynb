{
  "nbformat": 4,
  "nbformat_minor": 0,
  "metadata": {
    "colab": {
      "name": "Zümi goes to Paris",
      "version": "0.3.2",
      "provenance": [],
      "collapsed_sections": [],
      "include_colab_link": true
    },
    "kernelspec": {
      "name": "python3",
      "display_name": "Python 3"
    }
  },
  "cells": [
    {
      "cell_type": "markdown",
      "metadata": {
        "id": "view-in-github",
        "colab_type": "text"
      },
      "source": [
        "<a href=\"https://colab.research.google.com/github/RobolinkInc/zumi/blob/master/sample/deep-learning-demos/tourist/Z%C3%BCmiEiffelNeuralNet.ipynb\" target=\"_parent\"><img src=\"https://colab.research.google.com/assets/colab-badge.svg\" alt=\"Open In Colab\"/></a>"
      ]
    },
    {
      "metadata": {
        "id": "c_mbJ-LBw5r8",
        "colab_type": "text"
      },
      "cell_type": "markdown",
      "source": [
        "#How to Control a Robot with a NN\n",
        "\n",
        "This robot has an image sensor, and 4 arrow keys for control. We will control the robot manually first, then log the image, and inputs at each moment. We will use these as examples for our NN to reproduce.\n",
        "\n",
        "This will make a model capable of running and training on a PiZero.\n",
        "\n",
        "## First define a NN"
      ]
    },
    {
      "metadata": {
        "id": "FpvK4YnzAPCz",
        "colab_type": "code",
        "colab": {}
      },
      "cell_type": "code",
      "source": [
        "import keras\n",
        "\n",
        "keras.backend.clear_session()"
      ],
      "execution_count": 0,
      "outputs": []
    },
    {
      "metadata": {
        "id": "nSsFueLZxsju",
        "colab_type": "code",
        "colab": {}
      },
      "cell_type": "code",
      "source": [
        "image_shape = (64,64,3) #color image\n",
        "# image_shape = (32,32,1) #monochrome image\n",
        "num_outputs = 4  # 4 arrow directions\n",
        "\n",
        "\n",
        "import keras\n",
        "from keras.layers import Input, Conv2D, Dense, Flatten, Lambda\n",
        "from keras.layers.normalization import BatchNormalization\n",
        "\n",
        "def make_model():\n",
        "  '''\n",
        "  define the layer definitions, inputs, and outputs of the NN\n",
        "  '''\n",
        "  img_in = Input(shape=image_shape)\n",
        "  x = img_in\n",
        "#   x = Lambda(lambda x : x / 255.0 )(x)\n",
        "  x = BatchNormalization()(x)\n",
        "  x = Flatten()(x)\n",
        "  x = Dense(64, activation='relu')(x)\n",
        "  x = Dense(32, activation='relu')(x)\n",
        "  x = Dense(num_outputs, activation='softmax')(x)\n",
        "\n",
        "  model = keras.models.Model(inputs=[img_in], outputs=[x])\n",
        "  model.compile(optimizer=\"adam\", metrics=['acc'], loss='categorical_crossentropy')\n",
        "  return model\n",
        "\n",
        "model = make_model()\n",
        "print(model.summary())"
      ],
      "execution_count": 0,
      "outputs": []
    },
    {
      "metadata": {
        "colab_type": "text",
        "id": "rlGfb9YoboUo"
      },
      "cell_type": "markdown",
      "source": [
        "##Clear out the previous set of data from Google Drive\n",
        "\n",
        "`python3 /home/pi/zumi/sample/deep-learning-demos/driving/ClearImagesFromCloud.py --noauth_local_webserver`\n",
        "\n",
        "##Record some data.\n",
        "\n",
        "Run this script on Zumi: \n",
        "\n",
        "`python3 /home/pi/zumi/sample/deep-learning-demos/tourist/train_landmark.py`\n",
        "\n",
        "Use W, A, and S to control the robot and Z when you want to stop at the landmark.\n",
        "\n",
        "Upload the training data to [this folder](https://drive.google.com/drive/u/3/folders/1NwZ7PWLM4ZlHcvZhEWAM2N7YJDPhM9Pt) on Google Drive\n",
        "\n",
        "##Upload data from Zumi to Google Drive\n",
        "\n",
        "`python3 /home/pi/zumi/sample/deep-learning-demos/driving/SaveImagesToCloud.py --noauth_local_webserver`\n",
        "\n"
      ]
    },
    {
      "metadata": {
        "id": "bPDyuLAH3KZs",
        "colab_type": "text"
      },
      "cell_type": "markdown",
      "source": [
        "#Load images from Google Drive"
      ]
    },
    {
      "metadata": {
        "id": "h7SiEn7WkQot",
        "colab_type": "code",
        "colab": {}
      },
      "cell_type": "code",
      "source": [
        "from google.colab import drive\n",
        "drive.mount(\"/content/drive\")\n",
        "\n",
        "!ls \"/content/drive/My Drive/Zumi-Training-Data\""
      ],
      "execution_count": 0,
      "outputs": []
    },
    {
      "metadata": {
        "id": "SyiAlcZH3Jgu",
        "colab_type": "code",
        "colab": {}
      },
      "cell_type": "code",
      "source": [
        "import cv2\n",
        "import numpy \n",
        "\n",
        "def normalize(image):\n",
        "  maxValue = image.max()\n",
        "  scaledValue = 255.0/image.max()\n",
        "  normalizedImage = image*scaledValue\n",
        "  return normalizedImage\n",
        "\n",
        "import os\n",
        "files = os.listdir('/content/drive/My Drive/Zumi-Training-Data')\n",
        "print(\"Loading \" + str(len(files)) + \" files...\")\n",
        "\n",
        "images = []\n",
        "commands = []\n",
        "up_images = 0\n",
        "right_images = 0\n",
        "left_images = 0\n",
        "eiffel_images = 0\n",
        "\n",
        "for file_name in files:\n",
        "  image = cv2.imread('/content/drive/My Drive/Zumi-Training-Data/' + file_name)\n",
        "  images.append(image)\n",
        "  \n",
        "  filename_pieces = file_name.split(\".\")\n",
        "  command = filename_pieces[2]\n",
        "\n",
        "  command_array = numpy.zeros(num_outputs)\n",
        "  if(command == \"up\"): \n",
        "    up_images += 1\n",
        "    arrow_index = 0\n",
        "  elif(command == \"left\"): \n",
        "    arrow_index = 1\n",
        "    left_images += 1\n",
        "  elif(command == \"right\"): \n",
        "    arrow_index = 2\n",
        "    right_images += 1\n",
        "  elif(command == \"eiffel\"): \n",
        "    arrow_index = 3\n",
        "    eiffel_images += 1\n",
        "  else:\n",
        "    print(\"Invalid command: \" + command)\n",
        "    \n",
        "  command_array[arrow_index] = 1.0\n",
        "  commands.append(command_array)\n",
        "  \n",
        "print(\"Uploaded \" + str(len(images)) + \" images, and \" + str(len(commands)) + \" commands.\")\n",
        "print(str(up_images) + \" were UP. \" + str(left_images) + \" were LEFT, \" + str(right_images) + \" were RIGHT, and \" + str(eiffel_images) + \" were EIFFEL.\")\n",
        "\n",
        "#duplicate data so we can use fewer epochs\n",
        "for i in range(2):\n",
        "  images = images + images\n",
        "  commands = commands + commands\n",
        "\n",
        "images = numpy.array(images)\n",
        "commands = numpy.array(commands)\n",
        "\n"
      ],
      "execution_count": 0,
      "outputs": []
    },
    {
      "metadata": {
        "id": "roVEmWdz2oZR",
        "colab_type": "code",
        "colab": {}
      },
      "cell_type": "code",
      "source": [
        "images.shape"
      ],
      "execution_count": 0,
      "outputs": []
    },
    {
      "metadata": {
        "id": "7ncJjr192TPw",
        "colab_type": "text"
      },
      "cell_type": "markdown",
      "source": [
        "## Train the NN to reproduce the controls given the inputs\n",
        "\n",
        "you can increase epoch count until your accuracy stops improving"
      ]
    },
    {
      "metadata": {
        "id": "uXDK-S7I2aOc",
        "colab_type": "code",
        "colab": {}
      },
      "cell_type": "code",
      "source": [
        "model.fit(images, commands, epochs=15)"
      ],
      "execution_count": 0,
      "outputs": []
    },
    {
      "metadata": {
        "id": "PZCEaiD2wxlG",
        "colab_type": "text"
      },
      "cell_type": "markdown",
      "source": [
        "## Save and download the model"
      ]
    },
    {
      "metadata": {
        "id": "0ONehb97hWUU",
        "colab_type": "code",
        "colab": {}
      },
      "cell_type": "code",
      "source": [
        "import json\n",
        "json_string = model.to_json()\n",
        "with open('eiffel_model.json', 'w') as outfile:  \n",
        "    json.dump(json_string, outfile)\n",
        "from google.colab import files\n",
        "files.download('eiffel_model.json')\n",
        "\n",
        "model.save_weights('eiffel_weights.h5')\n",
        "from google.colab import files\n",
        "files.download('eiffel_weights.h5')"
      ],
      "execution_count": 0,
      "outputs": []
    },
    {
      "metadata": {
        "id": "t2lQfHAlwG3O",
        "colab_type": "code",
        "colab": {}
      },
      "cell_type": "code",
      "source": [
        "import numpy as np\n",
        "\n",
        "def eval(iSample):\n",
        "  x = images[iSample] #cv2.imread('/content/drive/My Drive/Zumi-Training-Data/78.left.jpg')\n",
        "  y_prob = model.predict(x[None, :, :, :])\n",
        "  print(\"Sample\", iSample)\n",
        "  print(y_prob)\n",
        "  print(commands[iSample])\n",
        "  y_classes = np.argmax(y_prob[0])\n",
        "  print(y_classes)\n",
        "  \n",
        "for i in range(5):\n",
        "  eval(i)\n",
        "  \n"
      ],
      "execution_count": 0,
      "outputs": []
    },
    {
      "metadata": {
        "id": "rSrkyucdlMha",
        "colab_type": "text"
      },
      "cell_type": "markdown",
      "source": [
        "## Send to Pi0\n",
        "\n",
        "scp -r /home/joonspoon/Downloads/eiffel.h5 pi@zumi.local:/home/pi/zumi/sample/deep-learning-demos/tourist/\n",
        "\n",
        "scp -r /home/joonspoon/Downloads/eiffel2.h5 pi@june-zumi.local:/home/pi/zumi/sample/deep-learning-demos/tourist/\n",
        "\n",
        "scp -r /home/joonspoon/Downloads/eiffel.h5 pi@yellow-zumi.local:/home/pi/zumi/sample/deep-learning-demos/tourist/\n",
        "\n",
        "\n",
        "\n",
        "\n",
        "\n",
        "\n",
        "scp -r /home/joonspoon/Downloads/eiffel_weights.h5 pi@june-zumi.local:/home/pi/zumi/sample/deep-learning-demos/tourist/\n",
        "\n",
        "scp -r /home/joonspoon/Downloads/eiffel_model.json pi@june-zumi.local:/home/pi/zumi/sample/deep-learning-demos/tourist/"
      ]
    },
    {
      "metadata": {
        "id": "xxetO6gX3dwT",
        "colab_type": "text"
      },
      "cell_type": "markdown",
      "source": [
        "## Use to control robot\n",
        "\n",
        "By running [this notebook](https://github.com/RobolinkInc/zumi/tree/master/sample/deep-learning-demos/driving/ControlUsingModel.ipynb)  on the robot.\n",
        "\n",
        "http://june-zumi.local:5555/notebooks/sample/deep-learning-demos/driving/ControlUsingModel.ipynb\n",
        "\n"
      ]
    }
  ]
}