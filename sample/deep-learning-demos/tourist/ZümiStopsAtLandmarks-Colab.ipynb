{
  "nbformat": 4,
  "nbformat_minor": 0,
  "metadata": {
    "colab": {
      "name": "Copy of Zümi 3 Landmarks",
      "version": "0.3.2",
      "provenance": [],
      "collapsed_sections": [],
      "include_colab_link": true
    },
    "kernelspec": {
      "name": "python3",
      "display_name": "Python 3"
    },
    "accelerator": "GPU"
  },
  "cells": [
    {
      "cell_type": "markdown",
      "metadata": {
        "id": "view-in-github",
        "colab_type": "text"
      },
      "source": [
        "<a href=\"https://colab.research.google.com/github/RobolinkInc/zumi/blob/master/sample/deep-learning-demos/tourist/Z%C3%BCmiStopsAtLandmarks-Colab.ipynb\" target=\"_parent\"><img src=\"https://colab.research.google.com/assets/colab-badge.svg\" alt=\"Open In Colab\"/></a>"
      ]
    },
    {
      "metadata": {
        "id": "c_mbJ-LBw5r8",
        "colab_type": "text"
      },
      "cell_type": "markdown",
      "source": [
        "#How to Control a Robot with a NN\n",
        "\n",
        "This robot has an image sensor, and 4 arrow keys for control. We will control the robot manually first, then log the image, and inputs at each moment. We will use these as examples for our NN to reproduce.\n",
        "\n",
        "This will make a model capable of running and training on a PiZero.\n",
        "\n",
        "## First define a NN"
      ]
    },
    {
      "metadata": {
        "id": "FpvK4YnzAPCz",
        "colab_type": "code",
        "outputId": "33b53b74-702d-4c74-b9cd-291b4fcc6d61",
        "colab": {
          "base_uri": "https://localhost:8080/",
          "height": 34
        }
      },
      "cell_type": "code",
      "source": [
        "import keras\n",
        "\n",
        "keras.backend.clear_session()"
      ],
      "execution_count": 0,
      "outputs": [
        {
          "output_type": "stream",
          "text": [
            "Using TensorFlow backend.\n"
          ],
          "name": "stderr"
        }
      ]
    },
    {
      "metadata": {
        "id": "nSsFueLZxsju",
        "colab_type": "code",
        "outputId": "13f30aa0-3bf4-4e1c-97e1-239b75d8fbe4",
        "colab": {
          "base_uri": "https://localhost:8080/",
          "height": 357
        }
      },
      "cell_type": "code",
      "source": [
        "image_shape = (64,64,3) #color image\n",
        "# image_shape = (32,32,1) #monochrome image\n",
        "num_outputs = 6  # left, right, up, eiffel, chicago, start\n",
        "\n",
        "\n",
        "import keras\n",
        "from keras.layers import Input, Conv2D, Dense, Flatten, Lambda\n",
        "from keras.layers.normalization import BatchNormalization\n",
        "\n",
        "def make_model():\n",
        "  '''\n",
        "  define the layer definitions, inputs, and outputs of the NN\n",
        "  '''\n",
        "  img_in = Input(shape=image_shape)\n",
        "  x = img_in\n",
        "  x = BatchNormalization()(x)\n",
        "  #These convolutional layers can be enabled once you have a lot more data.\n",
        "  #x = Conv2D(24, (5,5), strides=(2,2), activation='relu')(x)\n",
        "  #x = Conv2D(32, (5,5), strides=(2,2), activation='relu')(x)\n",
        "  #x = Conv2D(64, (5,5), strides=(2,2), activation='relu')(x)\n",
        "  #x = Conv2D(64, (3,3), strides=(1,1), activation='relu')(x)\n",
        "  #x = Conv2D(64, (3,3), strides=(1,1), activation='relu')(x)\n",
        "  x = Flatten()(x)\n",
        "  x = Dense(64, activation='relu')(x)\n",
        "  x = Dense(32, activation='relu')(x)\n",
        "  x = Dense(num_outputs, activation='softmax')(x)\n",
        "\n",
        "  model = keras.models.Model(inputs=[img_in], outputs=[x])\n",
        "  model.compile(optimizer=\"adam\", metrics=['acc'], loss='categorical_crossentropy')\n",
        "  return model\n",
        "\n",
        "model = make_model()\n",
        "print(model.summary())"
      ],
      "execution_count": 0,
      "outputs": [
        {
          "output_type": "stream",
          "text": [
            "_________________________________________________________________\n",
            "Layer (type)                 Output Shape              Param #   \n",
            "=================================================================\n",
            "input_1 (InputLayer)         (None, 64, 64, 3)         0         \n",
            "_________________________________________________________________\n",
            "batch_normalization_1 (Batch (None, 64, 64, 3)         12        \n",
            "_________________________________________________________________\n",
            "flatten_1 (Flatten)          (None, 12288)             0         \n",
            "_________________________________________________________________\n",
            "dense_1 (Dense)              (None, 64)                786496    \n",
            "_________________________________________________________________\n",
            "dense_2 (Dense)              (None, 32)                2080      \n",
            "_________________________________________________________________\n",
            "dense_3 (Dense)              (None, 6)                 198       \n",
            "=================================================================\n",
            "Total params: 788,786\n",
            "Trainable params: 788,780\n",
            "Non-trainable params: 6\n",
            "_________________________________________________________________\n",
            "None\n"
          ],
          "name": "stdout"
        }
      ]
    },
    {
      "metadata": {
        "colab_type": "text",
        "id": "rlGfb9YoboUo"
      },
      "cell_type": "markdown",
      "source": [
        "##Clear out the previous set of data from Google Drive\n",
        "\n",
        "`python3 /home/pi/zumi/sample/deep-learning-demos/driving/ClearImagesFromCloud.py --noauth_local_webserver`\n",
        "\n",
        "##Record some data.\n",
        "\n",
        "Run this script on Zumi: \n",
        "\n",
        "`python3 /home/pi/zumi/sample/deep-learning-demos/tourist/train_landmark.py`\n",
        "\n",
        "Use W, A, and S to control the robot and Z when you want to stop at the landmark.\n",
        "\n",
        "Upload the training data to [this folder](https://drive.google.com/drive/u/3/folders/1NwZ7PWLM4ZlHcvZhEWAM2N7YJDPhM9Pt) on Google Drive\n",
        "\n",
        "##Upload data from Zumi to Google Drive\n",
        "\n",
        "`python3 /home/pi/zumi/sample/deep-learning-demos/driving/SaveImagesToCloud.py --noauth_local_webserver`\n",
        "\n"
      ]
    },
    {
      "metadata": {
        "id": "bPDyuLAH3KZs",
        "colab_type": "text"
      },
      "cell_type": "markdown",
      "source": [
        "#Load images from Google Drive"
      ]
    },
    {
      "metadata": {
        "id": "h7SiEn7WkQot",
        "colab_type": "code",
        "outputId": "71e768a3-4f3a-4c8f-ab3c-7848f826ed6c",
        "colab": {
          "base_uri": "https://localhost:8080/",
          "height": 51
        }
      },
      "cell_type": "code",
      "source": [
        "from google.colab import drive\n",
        "drive.mount(\"/content/drive\")\n",
        "\n",
        "!ls \"/content/drive/My Drive/Zumi-Training-Data\" | wc -l"
      ],
      "execution_count": 0,
      "outputs": [
        {
          "output_type": "stream",
          "text": [
            "Drive already mounted at /content/drive; to attempt to forcibly remount, call drive.mount(\"/content/drive\", force_remount=True).\n",
            "2678\n"
          ],
          "name": "stdout"
        }
      ]
    },
    {
      "metadata": {
        "id": "SyiAlcZH3Jgu",
        "colab_type": "code",
        "outputId": "6c0ab6a4-bc7d-4eeb-a184-d7a3cae23282",
        "colab": {
          "base_uri": "https://localhost:8080/",
          "height": 102
        }
      },
      "cell_type": "code",
      "source": [
        "import cv2\n",
        "import numpy \n",
        "import os\n",
        "import random\n",
        "\n",
        "files = os.listdir('/content/drive/My Drive/Zumi-Training-Data')\n",
        "print(\"Loading \" + str(len(files)) + \" files...\")\n",
        "\n",
        "images = []\n",
        "commands = []\n",
        "val_images = []\n",
        "val_commands = []\n",
        "split = 0.2\n",
        "up_images = 0\n",
        "right_images = 0\n",
        "left_images = 0\n",
        "eiffel_images = 0\n",
        "chicago_images = 0\n",
        "start_images = 0\n",
        "ignored_images = 0\n",
        "\n",
        "for file_name in files:\n",
        "  \n",
        "  try:\n",
        "    image_bgr = cv2.imread('/content/drive/My Drive/Zumi-Training-Data/' + file_name)\n",
        "    image = cv2.cvtColor(image_bgr, cv2.COLOR_BGR2RGB)\n",
        "  except:\n",
        "    print(\"failed to read\", file_name)\n",
        "    break\n",
        "  \n",
        "  filename_pieces = file_name.split(\".\")\n",
        "  command = filename_pieces[2]\n",
        "\n",
        "  command_array = numpy.zeros(num_outputs)\n",
        "  if(command == \"up\"): \n",
        "    up_images += 1\n",
        "    arrow_index = 0\n",
        "  elif(command == \"left\"): \n",
        "    arrow_index = 1\n",
        "    left_images += 1\n",
        "  elif(command == \"right\"): \n",
        "    arrow_index = 2\n",
        "    right_images += 1\n",
        "  elif(command == \"eiffel\"): \n",
        "    arrow_index = 3\n",
        "    eiffel_images += 1\n",
        "  elif(command == \"chicago\"): \n",
        "    arrow_index = 4\n",
        "    chicago_images += 1\n",
        "  elif(command == \"start\"): \n",
        "    arrow_index = 5\n",
        "    start_images += 1\n",
        "  else:\n",
        "    #print(\"Invalid command: \" + command)\n",
        "    ignored_images += 1\n",
        "    continue\n",
        "    \n",
        "  if len(images) % 100 == 0:\n",
        "    print(\"#\", end=\"\")\n",
        "    \n",
        "  command_array[arrow_index] = 1.0\n",
        "  \n",
        "  if random.random() < split:\n",
        "    val_images.append(image)\n",
        "    val_commands.append(command_array)\n",
        "  else:\n",
        "    images.append(image)  \n",
        "    commands.append(command_array)\n",
        "  \n",
        "print()\n",
        "  \n",
        "print(\"Training with\", len(images), \"images, testing with\", len(val_images))\n",
        "print(str(up_images) + \" were UP. \" + str(left_images) + \" were LEFT. \" + str(right_images) + \" were RIGHT. \" + str(eiffel_images) + \" were EIFFEL. \" + str(chicago_images) + \" were CHICAGO. \" + str(start_images) + \" were START.\")\n",
        "print(ignored_images, \"images ignored because unknown command.\")\n",
        "\n",
        "#duplicate data so we can use fewer epochs\n",
        "#This is a hack and should be replaced with more data\n",
        "'''\n",
        "for i in range(2):\n",
        "  images = images + images\n",
        "  commands = commands + commands\n",
        "  val_images = val_images + val_images\n",
        "  val_commands = val_commands + val_commands\n",
        "'''\n",
        "\n",
        "train_images = numpy.array(images)\n",
        "train_commands = numpy.array(commands)\n",
        "test_images = numpy.array(val_images)\n",
        "test_commands = numpy.array(val_commands)\n",
        "\n"
      ],
      "execution_count": 0,
      "outputs": [
        {
          "output_type": "stream",
          "text": [
            "Loading 2678 files...\n",
            "############################\n",
            "Training with 2152 images, testing with 523\n",
            "1009 were UP. 648 were LEFT. 437 were RIGHT. 232 were EIFFEL. 274 were CHICAGO. 75 were START.\n",
            "3 images ignored because unknown command.\n"
          ],
          "name": "stdout"
        }
      ]
    },
    {
      "metadata": {
        "id": "roVEmWdz2oZR",
        "colab_type": "code",
        "outputId": "8f29b2f4-f524-4d64-9cd3-bf4dd0c74d8b",
        "colab": {
          "base_uri": "https://localhost:8080/",
          "height": 34
        }
      },
      "cell_type": "code",
      "source": [
        "train_images.shape"
      ],
      "execution_count": 0,
      "outputs": [
        {
          "output_type": "execute_result",
          "data": {
            "text/plain": [
              "(2152, 64, 64, 3)"
            ]
          },
          "metadata": {
            "tags": []
          },
          "execution_count": 5
        }
      ]
    },
    {
      "metadata": {
        "id": "7ncJjr192TPw",
        "colab_type": "text"
      },
      "cell_type": "markdown",
      "source": [
        "## Train the NN to reproduce the controls given the inputs\n",
        "\n",
        "This will stop training when the accuracy against the test set - or val_acc - stops improving for 6 epochs.\n",
        "\n",
        "Only the best weights will be saved out.\n"
      ]
    },
    {
      "metadata": {
        "id": "uXDK-S7I2aOc",
        "colab_type": "code",
        "outputId": "1869d2c4-f545-4343-c7b8-85e60475c881",
        "colab": {
          "base_uri": "https://localhost:8080/",
          "height": 323
        }
      },
      "cell_type": "code",
      "source": [
        "import keras\n",
        "\n",
        "weights_filename = 'landmark_weights.h5'\n",
        "\n",
        "early_stop = keras.callbacks.EarlyStopping(monitor='val_loss', \n",
        "                                                patience=6, \n",
        "                                                verbose=True, \n",
        "                                                mode='auto')\n",
        "\n",
        "save_best = keras.callbacks.ModelCheckpoint(weights_filename, save_best_only=True, save_weights_only=\"True\")\n",
        "\n",
        "hist = model.fit(train_images, train_commands, epochs=20, validation_data=[test_images, test_commands], callbacks=[early_stop, save_best])\n"
      ],
      "execution_count": 0,
      "outputs": [
        {
          "output_type": "stream",
          "text": [
            "Train on 2152 samples, validate on 523 samples\n",
            "Epoch 1/20\n",
            "2152/2152 [==============================] - 2s 946us/step - loss: 1.6983 - acc: 0.6366 - val_loss: 1.3854 - val_acc: 0.6750\n",
            "Epoch 2/20\n",
            "2152/2152 [==============================] - 1s 320us/step - loss: 0.9694 - acc: 0.7430 - val_loss: 0.9683 - val_acc: 0.7208\n",
            "Epoch 3/20\n",
            "2152/2152 [==============================] - 1s 330us/step - loss: 0.7528 - acc: 0.7983 - val_loss: 1.1374 - val_acc: 0.7380\n",
            "Epoch 4/20\n",
            "2152/2152 [==============================] - 1s 327us/step - loss: 0.6805 - acc: 0.8169 - val_loss: 1.1030 - val_acc: 0.7400\n",
            "Epoch 5/20\n",
            "2152/2152 [==============================] - 1s 323us/step - loss: 0.9089 - acc: 0.7951 - val_loss: 1.1984 - val_acc: 0.7170\n",
            "Epoch 6/20\n",
            "2152/2152 [==============================] - 1s 344us/step - loss: 0.6992 - acc: 0.8443 - val_loss: 1.2771 - val_acc: 0.7438\n",
            "Epoch 7/20\n",
            "2152/2152 [==============================] - 1s 334us/step - loss: 0.6282 - acc: 0.8494 - val_loss: 1.1572 - val_acc: 0.7400\n",
            "Epoch 8/20\n",
            "2152/2152 [==============================] - 1s 327us/step - loss: 0.6304 - acc: 0.8727 - val_loss: 1.1656 - val_acc: 0.7553\n",
            "Epoch 00008: early stopping\n"
          ],
          "name": "stdout"
        }
      ]
    },
    {
      "metadata": {
        "id": "I8UBnQPpzUUE",
        "colab_type": "code",
        "outputId": "e1d2dfeb-4e2a-447e-e78d-7ba30d7fcacc",
        "colab": {
          "base_uri": "https://localhost:8080/",
          "height": 376
        }
      },
      "cell_type": "code",
      "source": [
        "import matplotlib.pyplot as plt\n",
        "\n",
        "plt.plot(hist.history['loss'])\n",
        "plt.plot(hist.history['val_loss'])\n",
        "plt.title('Loss History - (lower is better)')\n",
        "plt.ylabel('loss')\n",
        "plt.xlabel('epoch')\n",
        "plt.legend(['train', 'test'], loc='upper left')\n",
        "plt.show()\n"
      ],
      "execution_count": 0,
      "outputs": [
        {
          "output_type": "display_data",
          "data": {
            "image/png": "[encoded data removed]",
            "text/plain": [
              "<matplotlib.figure.Figure at 0x7f8d49001470>"
            ]
          },
          "metadata": {
            "tags": []
          }
        }
      ]
    },
    {
      "metadata": {
        "id": "t694Uhfh2HDL",
        "colab_type": "text"
      },
      "cell_type": "markdown",
      "source": [
        "## How well against specific examples in our test set?\n",
        "\n",
        "This will take N random samples from the test set. This is significant because these are the images held asside that the \n",
        "network did NOT see during training. In other words, they tell you how well your model will generalize."
      ]
    },
    {
      "metadata": {
        "id": "l_P4W-Sf2O3p",
        "colab_type": "code",
        "outputId": "fd7bf569-7db3-4c09-fa28-6037bfe55558",
        "colab": {
          "base_uri": "https://localhost:8080/",
          "height": 2187
        }
      },
      "cell_type": "code",
      "source": [
        "import numpy as np\n",
        "\n",
        "def eval(iSample):\n",
        "  iImage = random.randint(0, len(test_images))\n",
        "  img = test_images[iImage]\n",
        "  plt.axis('off')\n",
        "  plt.imshow(img)\n",
        "  plt.show()\n",
        "  y_prob = model.predict(img[None, :, :, :])\n",
        "  pred = np.argmax(y_prob[0])\n",
        "  truth = np.argmax(commands[iSample])\n",
        "  print(\"Sample\", iSample)\n",
        "  print(\"Conf: %.2f\" % (y_prob[0][pred] * 100.0), \"%\")\n",
        "  print(\"Pred:\", pred)\n",
        "  print(\"Truth:\", truth)\n",
        "  print(\"Correct:\", truth == pred)\n",
        "  print()\n",
        "  \n",
        "for i in range(5):\n",
        "  eval(i)"
      ],
      "execution_count": 0,
      "outputs": [
        {
          "output_type": "display_data",
          "data": {
            "image/png": "[encoded data removed]",
            "text/plain": [
              "<matplotlib.figure.Figure at 0x7f8d48fcb518>"
            ]
          },
          "metadata": {
            "tags": []
          }
        },
        {
          "output_type": "stream",
          "text": [
            "Sample 0\n",
            "Conf: 92.71 %\n",
            "Pred: 0\n",
            "Truth: 0\n",
            "Correct: True\n",
            "\n"
          ],
          "name": "stdout"
        },
        {
          "output_type": "display_data",
          "data": {
            "image/png": "[encoded data removed]",
            "text/plain": [
              "<matplotlib.figure.Figure at 0x7f8d46ea1eb8>"
            ]
          },
          "metadata": {
            "tags": []
          }
        },
        {
          "output_type": "stream",
          "text": [
            "Sample 1\n",
            "Conf: 99.99 %\n",
            "Pred: 0\n",
            "Truth: 2\n",
            "Correct: False\n",
            "\n"
          ],
          "name": "stdout"
        },
        {
          "output_type": "display_data",
          "data": {
            "image/png": "[encoded data removed]",
            "text/plain": [
              "<matplotlib.figure.Figure at 0x7f8d46eb7908>"
            ]
          },
          "metadata": {
            "tags": []
          }
        },
        {
          "output_type": "stream",
          "text": [
            "Sample 2\n",
            "Conf: 68.56 %\n",
            "Pred: 0\n",
            "Truth: 0\n",
            "Correct: True\n",
            "\n"
          ],
          "name": "stdout"
        },
        {
          "output_type": "display_data",
          "data": {
            "image/png": "[encoded data removed]",
            "text/plain": [
              "<matplotlib.figure.Figure at 0x7f8d4665cac8>"
            ]
          },
          "metadata": {
            "tags": []
          }
        },
        {
          "output_type": "stream",
          "text": [
            "Sample 3\n",
            "Conf: 99.85 %\n",
            "Pred: 4\n",
            "Truth: 0\n",
            "Correct: False\n",
            "\n"
          ],
          "name": "stdout"
        },
        {
          "output_type": "display_data",
          "data": {
            "image/png": "[encoded data removed]",
            "text/plain": [
              "<matplotlib.figure.Figure at 0x7f8d465c0d30>"
            ]
          },
          "metadata": {
            "tags": []
          }
        },
        {
          "output_type": "stream",
          "text": [
            "Sample 4\n",
            "Conf: 100.00 %\n",
            "Pred: 0\n",
            "Truth: 2\n",
            "Correct: False\n",
            "\n"
          ],
          "name": "stdout"
        }
      ]
    },
    {
      "metadata": {
        "id": "PZCEaiD2wxlG",
        "colab_type": "text"
      },
      "cell_type": "markdown",
      "source": [
        "## Save and download the model"
      ]
    },
    {
      "metadata": {
        "id": "qZRjkNQwj3aV",
        "colab_type": "code",
        "colab": {}
      },
      "cell_type": "code",
      "source": [
        "import json\n",
        "from google.colab import files\n",
        "\n",
        "json_string = model.to_json()\n",
        "with open('landmark_model.json', 'w') as outfile:  \n",
        "    json.dump(json_string, outfile)\n",
        "\n",
        "files.download('landmark_model.json')\n",
        "\n",
        "#this getting saved from training session now.\n",
        "# model.save_weights(weights_filename)\n",
        "\n",
        "files.download(weights_filename)"
      ],
      "execution_count": 0,
      "outputs": []
    },
    {
      "metadata": {
        "id": "rSrkyucdlMha",
        "colab_type": "text"
      },
      "cell_type": "markdown",
      "source": [
        "## Send to Pi0\n",
        "\n",
        "scp -r /home/joonspoon/Downloads/landmark_weights.h5 pi@june-zumi.local:/home/pi/zumi/sample/deep-learning-demos/tourist/\n",
        "\n",
        "scp -r /home/joonspoon/Downloads/landmark_model.json pi@june-zumi.local:/home/pi/zumi/sample/deep-learning-demos/tourist/"
      ]
    },
    {
      "metadata": {
        "id": "xxetO6gX3dwT",
        "colab_type": "text"
      },
      "cell_type": "markdown",
      "source": [
        "## Use to control robot\n",
        "\n",
        "By running [this notebook](https://github.com/RobolinkInc/zumi/tree/master/sample/deep-learning-demos/driving/ControlUsingModel.ipynb)  on the robot.\n",
        "\n",
        "http://june-zumi.local:5555/notebooks/sample/deep-learning-demos/driving/ControlUsingModel.ipynb\n",
        "\n"
      ]
    }
  ]
}