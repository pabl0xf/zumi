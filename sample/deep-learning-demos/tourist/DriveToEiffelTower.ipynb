{
 "cells": [
  {
   "cell_type": "code",
   "execution_count": null,
   "metadata": {},
   "outputs": [],
   "source": [
    "import TouristDemoHelper as tourist_demo\n",
    "\n",
    "model = tourist_demo.load_model(\"landmark\")\n",
    "tourist_demo.drive_to_landmark(\"landmark\", model)"
   ]
  }
 ],
 "metadata": {
  "kernelspec": {
   "display_name": "Python 3",
   "language": "python",
   "name": "python3"
  }
 },
 "nbformat": 4,
 "nbformat_minor": 2
}
