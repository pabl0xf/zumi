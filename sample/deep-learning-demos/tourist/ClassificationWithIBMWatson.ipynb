{
 "cells": [
  {
   "cell_type": "code",
   "execution_count": 13,
   "metadata": {
    "scrolled": true
   },
   "outputs": [
    {
     "name": "stdout",
     "output_type": "stream",
     "text": [
      "running....\n",
      "detected: 'ny' with 85% confidence\n"
     ]
    }
   ],
   "source": [
    "import requests\n",
    "import base64\n",
    "\n",
    "# Gets the contents of an image file to be sent to the\n",
    "# machine learning model for classifying\n",
    "def getImageFileData(locationOfImageFile):\n",
    "    with open(locationOfImageFile, \"rb\") as f:\n",
    "        data = f.read()\n",
    "        return base64.b64encode(data)\n",
    "\n",
    "# This function will pass your image to the machine learning model\n",
    "# and return the top result with the highest confidence\n",
    "def classify(imagefile):\n",
    "    key = \"a45c5be0-d1a7-11e8-8f53-25211ecbb3cf064b0bfe-f636-4642-9958-1cb7226a9dcf\"\n",
    "    url = \"https://machinelearningforkids.co.uk/api/scratch/\"+ key + \"/classify\"\n",
    "\n",
    "    response = requests.post(url, json={ \"data\" : getImageFileData(imagefile) })\n",
    "\n",
    "    if response.ok:\n",
    "        responseData = response.json()\n",
    "        topMatch = responseData[0]\n",
    "        return topMatch\n",
    "    else:\n",
    "        response.raise_for_status()\n",
    "        \n",
    "\n",
    "import time\n",
    "import picamera\n",
    "import sys\n",
    "sys.path.insert(0,'/home/pi/zumi/lib')\n",
    "sys.path.insert(0,'/home/pi/zumi/src')\n",
    "import Speaker as speaker\n",
    "import ZumiTouristDemo as zumi\n",
    "\n",
    "with picamera.PiCamera() as camera:\n",
    "    camera.start_preview()\n",
    "    time.sleep(2)\n",
    "    print(\"running....\")\n",
    "    for filename in camera.capture_continuous('img.jpg'):\n",
    "        \n",
    "        demo = classify('img.jpg')\n",
    "        label = demo[\"class_name\"]\n",
    "        confidence = demo[\"confidence\"]\n",
    "        #print (\"detected: '%s' with %d%% confidence\" % (label, confidence))\n",
    "        \n",
    "        if(confidence > 82):\n",
    "            speaker.play_happy_sound()\n",
    "            print (\"detected: '%s' with %d%% confidence\" % (label, confidence))\n",
    "            time.sleep(2)\n",
    "            if label == 'luxor':\n",
    "                zumi.navigate_to_marker(1)\n",
    "                break\n",
    "            elif label == 'paris':\n",
    "                zumi.navigate_to_marker(2)\n",
    "                break\n",
    "            elif label == 'ny':\n",
    "                zumi.navigate_to_marker(3)\n",
    "                break\n",
    "            else:\n",
    "                continue\n",
    "        "
   ]
  },
  {
   "cell_type": "code",
   "execution_count": null,
   "metadata": {},
   "outputs": [],
   "source": []
  },
  {
   "cell_type": "code",
   "execution_count": null,
   "metadata": {},
   "outputs": [],
   "source": []
  }
 ],
 "metadata": {
  "kernelspec": {
   "display_name": "Python 3",
   "language": "python",
   "name": "python3"
  },
  "language_info": {
   "codemirror_mode": {
    "name": "ipython",
    "version": 3
   },
   "file_extension": ".py",
   "mimetype": "text/x-python",
   "name": "python",
   "nbconvert_exporter": "python",
   "pygments_lexer": "ipython3",
   "version": "3.5.3"
  }
 },
 "nbformat": 4,
 "nbformat_minor": 2
}
