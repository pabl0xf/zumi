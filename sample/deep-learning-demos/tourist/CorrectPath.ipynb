{
 "cells": [
  {
   "cell_type": "code",
   "execution_count": null,
   "metadata": {},
   "outputs": [],
   "source": [
    "import sys\n",
    "sys.path.insert(0,'/home/pi/zumi/lib')\n",
    "import Speaker as speaker\n",
    "import Engine as engine\n",
    "from IPython import display \n",
    "import numpy as np\n",
    "import PIL.Image \n",
    "from TawnCam import PiCamera\n",
    "import time\n",
    "import cv2\n",
    "\n",
    "import TouristDemoHelper as tourist_demo\n",
    "\n",
    "model = tourist_demo.load_model(\"landmark\")\n",
    "# speaker.play()\n"
   ]
  },
  {
   "cell_type": "code",
   "execution_count": null,
   "metadata": {},
   "outputs": [],
   "source": [
    "import TouristDemoHelper as tourist_demo\n",
    "\n",
    "camera = PiCamera(image_w=64, image_h=64, image_d=3, framerate=10)\n",
    "\n",
    "try:\n",
    "    while True:\n",
    "\n",
    "        frame = camera.run()\n",
    "        frame = cv2.flip(frame, -1)\n",
    "        \n",
    "        predictions = model.predict(frame[None, :, :, :])\n",
    "        index_of_most_likely_prediction = np.argmax(predictions[0])\n",
    "        predicted_label = tourist_demo.landmarks.get(index_of_most_likely_prediction)\n",
    "                          \n",
    "        display.clear_output(wait=True)\n",
    "        display.display(PIL.Image.fromarray(frame))\n",
    "        display.display(predicted_label)\n",
    "        display.display(tourist_demo.get_readable_predictions(predictions))\n",
    "        \n",
    "        is_correct = input(\"Input 'n' if incorrect: \") \n",
    "        if is_correct == 'n':\n",
    "            correct_label = input(\"what is the correct label? \")\n",
    "            tourist_demo.take_a_bunch_of_pictures(camera, correct_label)\n",
    "        else:\n",
    "            correct_label = predicted_label\n",
    "                                       \n",
    "        if correct_label == \"up\":\n",
    "            engine.forward_a_bit()\n",
    "        elif correct_label == 'left':\n",
    "            engine.left_a_bit()\n",
    "        elif correct_label == \"right\":\n",
    "            engine.right_a_bit()\n",
    "        else:\n",
    "            engine.forward_a_bit()\n",
    "        \n",
    "        engine.stop()\n",
    "    \n",
    "finally:\n",
    "    engine.stop()\n",
    "    camera.shutdown()"
   ]
  }
 ],
 "metadata": {
  "kernelspec": {
   "display_name": "Python 3",
   "language": "python",
   "name": "python3"
  },
  "language_info": {
   "codemirror_mode": {
    "name": "ipython",
    "version": 3
   },
   "file_extension": ".py",
   "mimetype": "text/x-python",
   "name": "python",
   "nbconvert_exporter": "python",
   "pygments_lexer": "ipython3",
   "version": "3.5.3"
  }
 },
 "nbformat": 4,
 "nbformat_minor": 2
}
