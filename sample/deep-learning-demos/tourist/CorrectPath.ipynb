{
 "cells": [
  {
   "cell_type": "code",
   "execution_count": 1,
   "metadata": {},
   "outputs": [
    {
     "name": "stderr",
     "output_type": "stream",
     "text": [
      "Using TensorFlow backend.\n",
      "/usr/lib/python3.5/importlib/_bootstrap.py:222: RuntimeWarning: compiletime version 3.4 of module 'tensorflow.python.framework.fast_tensor_util' does not match runtime version 3.5\n",
      "  return f(*args, **kwds)\n",
      "/usr/lib/python3.5/importlib/_bootstrap.py:222: RuntimeWarning: builtins.type size changed, may indicate binary incompatibility. Expected 432, got 412\n",
      "  return f(*args, **kwds)\n",
      "/usr/lib/python3.5/importlib/_bootstrap.py:222: RuntimeWarning: numpy.dtype size changed, may indicate binary incompatibility. Expected 56, got 52\n",
      "  return f(*args, **kwds)\n"
     ]
    },
    {
     "name": "stdout",
     "output_type": "stream",
     "text": [
      "model is loaded 🥂\n"
     ]
    }
   ],
   "source": [
    "import sys\n",
    "sys.path.insert(0,'/home/pi/zumi/lib')\n",
    "import Speaker as speaker\n",
    "import Engine as engine\n",
    "from IPython import display \n",
    "import numpy as np\n",
    "import PIL.Image \n",
    "from TawnCam import PiCamera\n",
    "import time\n",
    "import cv2\n",
    "\n",
    "import TouristDemoHelper as tourist_demo\n",
    "\n",
    "model = tourist_demo.load_model(\"landmark\")\n",
    "# speaker.play()\n"
   ]
  },
  {
   "cell_type": "code",
   "execution_count": null,
   "metadata": {},
   "outputs": [
    {
     "data": {
      "image/png": "[encoded data removed]",
      "text/plain": [
       "<PIL.Image.Image image mode=RGB size=64x64 at 0x95436D50>"
      ]
     },
     "metadata": {},
     "output_type": "display_data"
    },
    {
     "data": {
      "text/plain": [
       "'nyc'"
      ]
     },
     "metadata": {},
     "output_type": "display_data"
    },
    {
     "data": {
      "text/plain": [
       "3"
      ]
     },
     "metadata": {},
     "output_type": "display_data"
    },
    {
     "data": {
      "text/plain": [
       "array([[1.0689415e-30, 1.1910645e-05, 1.2632605e-29, 9.9998808e-01,\n",
       "        0.0000000e+00, 8.0795048e-33]], dtype=float32)"
      ]
     },
     "metadata": {},
     "output_type": "display_data"
    }
   ],
   "source": [
    "camera = PiCamera(image_w=64, image_h=64, image_d=3, framerate=10)\n",
    "\n",
    "try:\n",
    "    while True:\n",
    "\n",
    "        frame = camera.run()\n",
    "        frame = cv2.flip(frame, -1)\n",
    "        \n",
    "        pred = model.predict(frame[None, :, :, :])\n",
    "        iArrowDir = np.argmax(pred[0])\n",
    "\n",
    "        if iArrowDir == 0:\n",
    "            predicted_label = 'up' \n",
    "        elif iArrowDir == 1:\n",
    "            predicted_label = 'left'\n",
    "        elif iArrowDir == 2:\n",
    "            predicted_label = 'right' \n",
    "        elif iArrowDir == 3:\n",
    "            predicted_label = \"nyc\"\n",
    "        elif iArrowDir == 4:\n",
    "            predicted_label = \"seattle\"\n",
    "        elif iArrowDir == 5:\n",
    "            predicted_label = \"eiffel\"\n",
    "        elif iArrowDir == 6:\n",
    "            predicted_label = \"bigben\"\n",
    "        elif iArrowDir == 7:\n",
    "            predicted_label = \"china\"\n",
    "        elif iArrowDir == 8:\n",
    "            predicted_label = \"khalifa\"\n",
    "        elif iArrowDir == 9:\n",
    "            predicted_label = \"chicago\"\n",
    "        elif iArrowDir == 10:\n",
    "            predicted_label = \"intersection\"\n",
    "        elif iArrowDir == 11:\n",
    "            predicted_label = \"start\"\n",
    "                    \n",
    "        display.clear_output(wait=True)\n",
    "        display.display(PIL.Image.fromarray(frame))\n",
    "        display.display(predicted_label)\n",
    "        display.display(iArrowDir)\n",
    "        \n",
    "        display.display(pred)\n",
    "        \n",
    "        isCorrect = input(\"Input 'y' if correct: \") \n",
    "        if isCorrect == 'y':\n",
    "            correct_label = predicted_label\n",
    "        else:\n",
    "            correct_label = input(\"what is the correct label? \")\n",
    "        \n",
    "        tourist_demo.take_a_bunch_of_pictures(camera, correct_label)\n",
    "                                       \n",
    "        if correct_label == \"up\":\n",
    "            engine.forward_a_bit()\n",
    "        elif correct_label == 'left':\n",
    "            engine.left_a_bit()\n",
    "        elif correct_label == \"right\":\n",
    "            engine.right_a_bit()\n",
    "        else:\n",
    "            engine.forward_a_bit()\n",
    "        \n",
    "        engine.stop()\n",
    "    \n",
    "finally:\n",
    "    engine.stop()\n",
    "    camera.shutdown()"
   ]
  },
  {
   "cell_type": "code",
   "execution_count": null,
   "metadata": {},
   "outputs": [],
   "source": []
  }
 ],
 "metadata": {
  "kernelspec": {
   "display_name": "Python 3",
   "language": "python",
   "name": "python3"
  },
  "language_info": {
   "codemirror_mode": {
    "name": "ipython",
    "version": 3
   },
   "file_extension": ".py",
   "mimetype": "text/x-python",
   "name": "python",
   "nbconvert_exporter": "python",
   "pygments_lexer": "ipython3",
   "version": "3.5.3"
  }
 },
 "nbformat": 4,
 "nbformat_minor": 2
}
