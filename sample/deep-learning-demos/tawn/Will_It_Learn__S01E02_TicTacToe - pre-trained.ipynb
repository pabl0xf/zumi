{
 "cells": [
  {
   "cell_type": "markdown",
   "metadata": {
    "colab_type": "text",
    "id": "deOqgRg7j02G"
   },
   "source": [
    "#\"Will It Learn?\" - Tic Tac Toe\n",
    "The idea is to test your intuition. We will present a problem and then ask you to predict ahead of time whether the network is capable of predicting the output, given the input. \n",
    "\n",
    "##Let's start the experiment. \n",
    "I was curious if a simple convolutional neural network would find the next best move in a game of tic tac toe. It will be given the board state 4 moves in as an image. It must activate one of 9 neurons to indicate the square of the next best move. This will be taught in a supervised manner, given 50K examples of the next best move. But, will it learn?\n",
    "\n",
    "Here's a sample image:\n",
    "\n"
   ]
  },
  {
   "cell_type": "code",
   "execution_count": 1,
   "metadata": {
    "colab": {},
    "colab_type": "code",
    "id": "zm1Q7JMFG2ph"
   },
   "outputs": [
    {
     "data": {
      "image/png": "[encoded data removed]",
      "text/plain": [
       "<Figure size 432x288 with 1 Axes>"
      ]
     },
     "metadata": {
      "needs_background": "light"
     },
     "output_type": "display_data"
    }
   ],
   "source": [
    "#This is a code cell. Click on the cell to make it active. Then click on the left corner arrow in a circle button to run it. Or use the keyboard shortcut ctlr+enter.\n",
    "import numpy as np\n",
    "from PIL import Image, ImageDraw\n",
    "import random\n",
    "import matplotlib.pyplot as plt\n",
    "%matplotlib inline\n",
    "\n",
    "img_shape = (100, 100, 3)\n",
    "\n",
    "PLYR_X = 'X'\n",
    "PLYR_O = 'O'\n",
    "EMPTY = ' '\n",
    "\n",
    "def draw_x(draw, coord, sw, sh, color='blue'):\n",
    "  sz = sw\n",
    "  x1 = coord[0] - sw / 2\n",
    "  y1 = coord[1] - sh / 2\n",
    "  x2 = x1 + sz\n",
    "  y2 = y1 + sz\n",
    "  coords = (x1, y1, x2, y2)\n",
    "  draw.line(coords, fill=color)\n",
    "  t = y1\n",
    "  y1 = y2\n",
    "  y2 = t\n",
    "  coords = (x1, y1, x2, y2)\n",
    "  draw.line(coords, fill=color)\n",
    "\n",
    "\n",
    "def draw_o(draw, coord, sw, sh, color='red'):\n",
    "  sz = sw\n",
    "  x1 = coord[0] - sw / 2\n",
    "  y1 = coord[1] - sh / 2\n",
    "  x2 = x1 + sz\n",
    "  y2 = y1 + sz\n",
    "  coords = (x1, y1, x2, y2)\n",
    "  draw.ellipse(coords, outline=color)  \n",
    "\n",
    "\n",
    "def img_tic_tac_toe(img_shape, board_state, squares):\n",
    "  w = img_shape[1]\n",
    "  h = img_shape[0]\n",
    "  img = Image.new('RGB', size=(w, h))\n",
    "  draw = ImageDraw.Draw(img)\n",
    "  \n",
    "  #draw field lines\n",
    "  for i in range(2):\n",
    "    horiz = h / 3.0 * (i + 1)\n",
    "    draw.line((0, horiz, w, horiz), fill='white')\n",
    "\n",
    "  for i in range(2):\n",
    "    vert = w / 3.0 * (i + 1)\n",
    "    draw.line((vert, 0, vert, h), fill='white')\n",
    "    \n",
    "  sw = w / 6\n",
    "  sh = h / 6\n",
    "      \n",
    "  for iS, state in enumerate(board_state):\n",
    "    if state == PLYR_X:\n",
    "      draw_x(draw, squares[iS], sw, sh)\n",
    "    elif state == PLYR_O:\n",
    "      draw_o(draw, squares[iS], sw, sh)\n",
    "  \n",
    "  return img\n",
    "\n",
    "\n",
    "w = img_shape[1]\n",
    "h = img_shape[0]\n",
    "\n",
    "squares = []\n",
    "for j in range(3):\n",
    "  y = (h * j) / 3 + h / 6.0\n",
    "  for i in range(3):\n",
    "    x = (w * i) / 3 + w / 6.0\n",
    "    squares.append((x, y))\n",
    "    \n",
    "def rand_board():\n",
    "  board_state = [EMPTY for i in range(9)]\n",
    "  p = PLYR_X\n",
    "  for i in range(4):\n",
    "    iS = random.randint(0, 8)\n",
    "    while board_state[iS] != EMPTY:\n",
    "      iS = random.randint(0, 8)\n",
    "    board_state[iS] = p\n",
    "    if p == PLYR_X:\n",
    "      p = PLYR_O\n",
    "    else:\n",
    "      p = PLYR_X\n",
    "          \n",
    "  return board_state\n",
    "\n",
    "board_state = rand_board()\n",
    "img = img_tic_tac_toe(img_shape, board_state, squares)\n",
    "img = np.array(img).astype(np.uint8)\n",
    "plt.axis('off')\n",
    "plt.imshow(img)\n",
    "plt.show()\n",
    "\n",
    "#You should see an random tic tac toe board."
   ]
  },
  {
   "cell_type": "code",
   "execution_count": 0,
   "metadata": {
    "colab": {},
    "colab_type": "code",
    "id": "TS6cHvZUJApG"
   },
   "outputs": [],
   "source": []
  },
  {
   "cell_type": "markdown",
   "metadata": {
    "colab_type": "text",
    "id": "srgX2P6qoIcs"
   },
   "source": [
    "##What do you think?\n",
    "Will this somewhat simple network accomplish the task of learning the next best move from just pixels? \n",
    "\n",
    "\n",
    "Let's find out...\n",
    "\n",
    "First let's make sure you are using the GPU. Run the cell bellow to double check:"
   ]
  },
  {
   "cell_type": "code",
   "execution_count": 0,
   "metadata": {
    "colab": {},
    "colab_type": "code",
    "id": "UQYqy0K023PP"
   },
   "outputs": [],
   "source": [
    "import tensorflow as tf\n",
    "print(tf.__version__)\n",
    "tf.test.gpu_device_name()\n",
    "#if you see something like '/device:GPU:0' then the gpu accelerated learning will be enabled. if not, cpu will work, just slower."
   ]
  },
  {
   "cell_type": "markdown",
   "metadata": {
    "colab_type": "text",
    "id": "dxBPjjT0rt4h"
   },
   "source": [
    "##Our Neural Network\n",
    "\n",
    "Here's what our network will look like. Pretty straight foward, 4 layers of convolutions. 64 filters per layer. A 3x3 kernel used in each. With relu activation in each. "
   ]
  },
  {
   "cell_type": "code",
   "execution_count": 2,
   "metadata": {
    "colab": {},
    "colab_type": "code",
    "id": "sf9j7zQt4ugi"
   },
   "outputs": [
    {
     "name": "stderr",
     "output_type": "stream",
     "text": [
      "Using TensorFlow backend.\n",
      "ERROR:root:Internal Python error in the inspect module.\n",
      "Below is the traceback from this internal error.\n",
      "\n"
     ]
    },
    {
     "name": "stdout",
     "output_type": "stream",
     "text": [
      "Traceback (most recent call last):\n",
      "  File \"/home/pi/.local/lib/python3.5/site-packages/IPython/core/interactiveshell.py\", line 2961, in run_code\n",
      "    exec(code_obj, self.user_global_ns, self.user_ns)\n",
      "  File \"<ipython-input-2-5429e90511d7>\", line 2, in <module>\n",
      "    import keras\n",
      "  File \"/usr/local/lib/python3.5/dist-packages/keras/__init__.py\", line 3, in <module>\n",
      "    from . import utils\n",
      "  File \"/usr/local/lib/python3.5/dist-packages/keras/utils/__init__.py\", line 6, in <module>\n",
      "    from . import conv_utils\n",
      "  File \"/usr/local/lib/python3.5/dist-packages/keras/utils/conv_utils.py\", line 9, in <module>\n",
      "    from .. import backend as K\n",
      "  File \"/usr/local/lib/python3.5/dist-packages/keras/backend/__init__.py\", line 89, in <module>\n",
      "    from .tensorflow_backend import *\n",
      "  File \"/usr/local/lib/python3.5/dist-packages/keras/backend/tensorflow_backend.py\", line 5, in <module>\n",
      "    import tensorflow as tf\n",
      "  File \"/usr/local/lib/python3.5/dist-packages/tensorflow/__init__.py\", line 22, in <module>\n",
      "    from tensorflow.python import pywrap_tensorflow  # pylint: disable=unused-import\n",
      "  File \"/usr/local/lib/python3.5/dist-packages/tensorflow/python/__init__.py\", line 52, in <module>\n",
      "    from tensorflow.core.framework.graph_pb2 import *\n",
      "  File \"/usr/local/lib/python3.5/dist-packages/tensorflow/core/framework/graph_pb2.py\", line 6, in <module>\n",
      "    from google.protobuf import descriptor as _descriptor\n",
      "  File \"/usr/local/lib/python3.5/dist-packages/google/protobuf/__init__.py\", line 37, in <module>\n",
      "    __import__('pkg_resources').declare_namespace(__name__)\n",
      "  File \"/home/pi/.local/lib/python3.5/site-packages/pkg_resources/__init__.py\", line 35, in <module>\n",
      "    import plistlib\n",
      "  File \"/usr/lib/python3.5/plistlib.py\", line 65, in <module>\n",
      "    from xml.parsers.expat import ParserCreate\n",
      "  File \"<frozen importlib._bootstrap>\", line 969, in _find_and_load\n",
      "  File \"<frozen importlib._bootstrap>\", line 958, in _find_and_load_unlocked\n",
      "  File \"<frozen importlib._bootstrap>\", line 673, in _load_unlocked\n",
      "  File \"<frozen importlib._bootstrap_external>\", line 669, in exec_module\n",
      "  File \"<frozen importlib._bootstrap_external>\", line 758, in get_code\n",
      "  File \"<frozen importlib._bootstrap_external>\", line 826, in get_data\n",
      "KeyboardInterrupt\n",
      "\n",
      "During handling of the above exception, another exception occurred:\n",
      "\n",
      "Traceback (most recent call last):\n",
      "  File \"/home/pi/.local/lib/python3.5/site-packages/IPython/core/interactiveshell.py\", line 1863, in showtraceback\n",
      "    stb = value._render_traceback_()\n",
      "AttributeError: 'KeyboardInterrupt' object has no attribute '_render_traceback_'\n",
      "\n",
      "During handling of the above exception, another exception occurred:\n",
      "\n",
      "Traceback (most recent call last):\n",
      "  File \"/home/pi/.local/lib/python3.5/site-packages/IPython/core/ultratb.py\", line 1095, in get_records\n",
      "    return _fixed_getinnerframes(etb, number_of_lines_of_context, tb_offset)\n",
      "  File \"/home/pi/.local/lib/python3.5/site-packages/IPython/core/ultratb.py\", line 311, in wrapped\n",
      "    return f(*args, **kwargs)\n",
      "  File \"/home/pi/.local/lib/python3.5/site-packages/IPython/core/ultratb.py\", line 345, in _fixed_getinnerframes\n",
      "    records = fix_frame_records_filenames(inspect.getinnerframes(etb, context))\n",
      "  File \"/usr/lib/python3.5/inspect.py\", line 1454, in getinnerframes\n",
      "    frameinfo = (tb.tb_frame,) + getframeinfo(tb, context)\n",
      "  File \"/usr/lib/python3.5/inspect.py\", line 1411, in getframeinfo\n",
      "    filename = getsourcefile(frame) or getfile(frame)\n",
      "  File \"/usr/lib/python3.5/inspect.py\", line 671, in getsourcefile\n",
      "    if getattr(getmodule(object, filename), '__loader__', None) is not None:\n",
      "  File \"/usr/lib/python3.5/inspect.py\", line 714, in getmodule\n",
      "    f = getabsfile(module)\n",
      "  File \"/usr/lib/python3.5/inspect.py\", line 683, in getabsfile\n",
      "    _filename = getsourcefile(object) or getfile(object)\n",
      "  File \"/usr/lib/python3.5/inspect.py\", line 668, in getsourcefile\n",
      "    if os.path.exists(filename):\n",
      "  File \"/usr/lib/python3.5/genericpath.py\", line 19, in exists\n",
      "    os.stat(path)\n",
      "KeyboardInterrupt\n"
     ]
    },
    {
     "ename": "KeyboardInterrupt",
     "evalue": "",
     "output_type": "error",
     "traceback": [
      "\u001b[0;31m---------------------------------------------------------------------------\u001b[0m"
     ]
    }
   ],
   "source": [
    "#Let's define a pretty straight forward conv neural network. It will have about 200K params, given the input image dimension of 100 x 100\n",
    "import keras\n",
    "from keras.layers import Flatten, Conv2D, Dense\n",
    "\n",
    "max_circles = 10\n",
    "img = keras.Input(shape=img_shape)\n",
    "\n",
    "x = img\n",
    "x = Conv2D(64, (3, 3), strides=(2,2), activation=\"relu\")(x)\n",
    "x = Conv2D(64, (3, 3), strides=(2,2), activation=\"relu\")(x)\n",
    "x = Conv2D(64, (3, 3), strides=(2,2), activation=\"relu\")(x)\n",
    "x = Conv2D(64, (3, 3), strides=(2,2), activation=\"relu\")(x)\n",
    "x = Flatten()(x)\n",
    "x = Dense(100, activation='relu')(x)\n",
    "x = Dense(9, activation='softmax')(x)\n",
    "\n",
    "model = keras.Model(img, x)\n",
    "model.compile(optimizer=\"adam\", loss=\"categorical_crossentropy\", metrics=[\"acc\"])\n",
    "print(model.summary())"
   ]
  },
  {
   "cell_type": "code",
   "execution_count": 3,
   "metadata": {
    "colab": {},
    "colab_type": "code",
    "id": "30drrfw3Tsys"
   },
   "outputs": [
    {
     "data": {
      "image/png": "[encoded data removed]",
      "text/plain": [
       "<Figure size 432x288 with 1 Axes>"
      ]
     },
     "metadata": {
      "needs_background": "light"
     },
     "output_type": "display_data"
    }
   ],
   "source": [
    "#some board routines from https://github.com/navdeeshahuja/Python-TicTacToe-Best-Move-Generator-Artificial-Intelligence-Minimax\n",
    "#I've fixed some bugs, so this is slightly modified from that source\n",
    "def checkWin(board, player):\n",
    "    for i in range(0, 7, 3):\n",
    "        if(board[i] == player and board[i+1] == player and board[i+2] == player):\n",
    "            return True\n",
    "    for i in range(0, 3):\n",
    "        if(board[i] == player and board[i+3] == player and board[i+6] == player):\n",
    "            return True\n",
    "    if(board[0] == player and board[4] == player and board[8] == player):\n",
    "        return True\n",
    "    if(board[2] == player and board[4] == player and board[6] == player):\n",
    "        return True\n",
    "    return False\n",
    "\n",
    "def checkLose(board, player):\n",
    "    if(player == PLYR_X):\n",
    "        opponent = PLYR_O\n",
    "    else:\n",
    "        opponent = PLYR_X\n",
    "    if(checkWin(board, opponent)):\n",
    "        return True\n",
    "    return False\n",
    "\n",
    "def checkTie(board):\n",
    "    for x in board:\n",
    "        if(x == EMPTY):\n",
    "            return False\n",
    "    return True\n",
    "    \n",
    "\n",
    "def getAIMove(board, nextMove, aiPlayer, depth=0):\n",
    "    if(checkWin(board, aiPlayer)):\n",
    "        return (-1, 11 - depth)\n",
    "    elif(checkLose(board, aiPlayer)):\n",
    "        return (-1, -11 + depth)\n",
    "    elif(checkTie(board)):\n",
    "        return (-1, 0)\n",
    "\n",
    "    moves = []\n",
    "    \n",
    "    for i in range(len(board)):\n",
    "        if(board[i] == EMPTY):\n",
    "            board[i] = nextMove\n",
    "            \n",
    "            score = getAIMove(board, (PLYR_X if nextMove == PLYR_O else PLYR_O), aiPlayer, depth + 1)[1]\n",
    "            moves.append((i, score))\n",
    "            #print(nextMove, moves)\n",
    "            board[i] = EMPTY\n",
    "\n",
    "    \n",
    "    if(nextMove == aiPlayer):\n",
    "        maxScore = moves[0][1]\n",
    "        bestMove = moves[0]\n",
    "        for move in moves:\n",
    "            if(move[1] > maxScore):\n",
    "                bestMove = move\n",
    "                maxScore = move[1]\n",
    "        return bestMove\n",
    "    else:\n",
    "        minScore = moves[0][1]\n",
    "        worstMove = moves[0]\n",
    "        for move in moves:\n",
    "            if(move[1] < minScore):\n",
    "                worstMove = move\n",
    "                minScore = move[1]\n",
    "        return worstMove\n",
    "      \n",
    "def best_move_for_x(board_state):\n",
    "  iSquare, score = getAIMove(board_state, PLYR_X, PLYR_X)\n",
    "  one_hot = np.zeros(9)\n",
    "  one_hot[iSquare] = 1\n",
    "  return one_hot, iSquare, score\n",
    "\n",
    "#Test the routines above by generating a random board and finding the bext move.\n",
    "board_state = rand_board()\n",
    "img = img_tic_tac_toe(img_shape, board_state, squares)\n",
    "one_hot, iSquare, score = best_move_for_x(board_state)\n",
    "sw = w / 6\n",
    "sh = h / 6\n",
    "draw = ImageDraw.Draw(img)\n",
    "draw_x(draw, squares[iSquare], sw, sh, color='green')\n",
    "img = np.array(img).astype(np.uint8)\n",
    "plt.axis('off')\n",
    "plt.imshow(img)\n",
    "plt.show()\n",
    "#here the green x will show the next best move for x.\n"
   ]
  },
  {
   "cell_type": "code",
   "execution_count": 4,
   "metadata": {
    "colab": {},
    "colab_type": "code",
    "id": "ytI5uL7iux9x"
   },
   "outputs": [],
   "source": [
    "# Here's function that will generate a numpy array of images and moves for our NN to train on\n",
    "def generator(img_shape, batch_size, squares):\n",
    "  while True:\n",
    "    X = []\n",
    "    y = []\n",
    "    for i in range(batch_size):\n",
    "      board_state = rand_board()\n",
    "      img = img_tic_tac_toe(img_shape, board_state, squares)\n",
    "      move, iSquare, score = best_move_for_x(board_state)\n",
    "      img = np.array(img).astype(np.uint8)\n",
    "      X.append(img)\n",
    "      y.append(move)\n",
    "    yield np.array(X), np.array(y)\n",
    "\n"
   ]
  },
  {
   "cell_type": "code",
   "execution_count": 5,
   "metadata": {
    "colab": {},
    "colab_type": "code",
    "id": "K3L0t5j-wY7j"
   },
   "outputs": [
    {
     "name": "stderr",
     "output_type": "stream",
     "text": [
      "Using TensorFlow backend.\n",
      "/usr/lib/python3.5/importlib/_bootstrap.py:222: RuntimeWarning: compiletime version 3.4 of module 'tensorflow.python.framework.fast_tensor_util' does not match runtime version 3.5\n",
      "  return f(*args, **kwds)\n",
      "/usr/lib/python3.5/importlib/_bootstrap.py:222: RuntimeWarning: builtins.type size changed, may indicate binary incompatibility. Expected 432, got 412\n",
      "  return f(*args, **kwds)\n",
      "/usr/lib/python3.5/importlib/_bootstrap.py:222: RuntimeWarning: numpy.dtype size changed, may indicate binary incompatibility. Expected 56, got 52\n",
      "  return f(*args, **kwds)\n"
     ]
    },
    {
     "ename": "NameError",
     "evalue": "name 'core' is not defined",
     "output_type": "error",
     "traceback": [
      "\u001b[0;31m---------------------------------------------------------------------------\u001b[0m",
      "\u001b[0;31mNameError\u001b[0m                                 Traceback (most recent call last)",
      "\u001b[0;32m<ipython-input-5-7f71acc5e7d2>\u001b[0m in \u001b[0;36m<module>\u001b[0;34m()\u001b[0m\n\u001b[1;32m     12\u001b[0m \u001b[0;31m#                     verbose=1)\u001b[0m\u001b[0;34m\u001b[0m\u001b[0;34m\u001b[0m\u001b[0m\n\u001b[1;32m     13\u001b[0m \u001b[0;34m\u001b[0m\u001b[0m\n\u001b[0;32m---> 14\u001b[0;31m \u001b[0;32mfrom\u001b[0m \u001b[0mkeras\u001b[0m\u001b[0;34m.\u001b[0m\u001b[0mmodels\u001b[0m \u001b[0;32mimport\u001b[0m \u001b[0mload_model\u001b[0m\u001b[0;34m\u001b[0m\u001b[0m\n\u001b[0m\u001b[1;32m     15\u001b[0m \u001b[0mmodel\u001b[0m \u001b[0;34m=\u001b[0m \u001b[0mload_model\u001b[0m\u001b[0;34m(\u001b[0m\u001b[0;34m\"tictactoe.h5\"\u001b[0m\u001b[0;34m)\u001b[0m\u001b[0;34m\u001b[0m\u001b[0m\n\u001b[1;32m     16\u001b[0m \u001b[0mprint\u001b[0m \u001b[0;34m(\u001b[0m\u001b[0;34m\"model loaded, hic\"\u001b[0m\u001b[0;34m)\u001b[0m\u001b[0;34m\u001b[0m\u001b[0m\n",
      "\u001b[0;32m/usr/local/lib/python3.5/dist-packages/keras/__init__.py\u001b[0m in \u001b[0;36m<module>\u001b[0;34m()\u001b[0m\n\u001b[1;32m      1\u001b[0m \u001b[0;32mfrom\u001b[0m \u001b[0m__future__\u001b[0m \u001b[0;32mimport\u001b[0m \u001b[0mabsolute_import\u001b[0m\u001b[0;34m\u001b[0m\u001b[0m\n\u001b[1;32m      2\u001b[0m \u001b[0;34m\u001b[0m\u001b[0m\n\u001b[0;32m----> 3\u001b[0;31m \u001b[0;32mfrom\u001b[0m \u001b[0;34m.\u001b[0m \u001b[0;32mimport\u001b[0m \u001b[0mutils\u001b[0m\u001b[0;34m\u001b[0m\u001b[0m\n\u001b[0m\u001b[1;32m      4\u001b[0m \u001b[0;32mfrom\u001b[0m \u001b[0;34m.\u001b[0m \u001b[0;32mimport\u001b[0m \u001b[0mactivations\u001b[0m\u001b[0;34m\u001b[0m\u001b[0m\n\u001b[1;32m      5\u001b[0m \u001b[0;32mfrom\u001b[0m \u001b[0;34m.\u001b[0m \u001b[0;32mimport\u001b[0m \u001b[0mapplications\u001b[0m\u001b[0;34m\u001b[0m\u001b[0m\n",
      "\u001b[0;32m/usr/local/lib/python3.5/dist-packages/keras/utils/__init__.py\u001b[0m in \u001b[0;36m<module>\u001b[0;34m()\u001b[0m\n\u001b[1;32m      4\u001b[0m \u001b[0;32mfrom\u001b[0m \u001b[0;34m.\u001b[0m \u001b[0;32mimport\u001b[0m \u001b[0mdata_utils\u001b[0m\u001b[0;34m\u001b[0m\u001b[0m\n\u001b[1;32m      5\u001b[0m \u001b[0;32mfrom\u001b[0m \u001b[0;34m.\u001b[0m \u001b[0;32mimport\u001b[0m \u001b[0mio_utils\u001b[0m\u001b[0;34m\u001b[0m\u001b[0m\n\u001b[0;32m----> 6\u001b[0;31m \u001b[0;32mfrom\u001b[0m \u001b[0;34m.\u001b[0m \u001b[0;32mimport\u001b[0m \u001b[0mconv_utils\u001b[0m\u001b[0;34m\u001b[0m\u001b[0m\n\u001b[0m\u001b[1;32m      7\u001b[0m \u001b[0;34m\u001b[0m\u001b[0m\n\u001b[1;32m      8\u001b[0m \u001b[0;31m# Globally-importable utils.\u001b[0m\u001b[0;34m\u001b[0m\u001b[0;34m\u001b[0m\u001b[0m\n",
      "\u001b[0;32m/usr/local/lib/python3.5/dist-packages/keras/utils/conv_utils.py\u001b[0m in \u001b[0;36m<module>\u001b[0;34m()\u001b[0m\n\u001b[1;32m      7\u001b[0m \u001b[0;32mfrom\u001b[0m \u001b[0msix\u001b[0m\u001b[0;34m.\u001b[0m\u001b[0mmoves\u001b[0m \u001b[0;32mimport\u001b[0m \u001b[0mrange\u001b[0m\u001b[0;34m\u001b[0m\u001b[0m\n\u001b[1;32m      8\u001b[0m \u001b[0;32mimport\u001b[0m \u001b[0mnumpy\u001b[0m \u001b[0;32mas\u001b[0m \u001b[0mnp\u001b[0m\u001b[0;34m\u001b[0m\u001b[0m\n\u001b[0;32m----> 9\u001b[0;31m \u001b[0;32mfrom\u001b[0m \u001b[0;34m.\u001b[0m\u001b[0;34m.\u001b[0m \u001b[0;32mimport\u001b[0m \u001b[0mbackend\u001b[0m \u001b[0;32mas\u001b[0m \u001b[0mK\u001b[0m\u001b[0;34m\u001b[0m\u001b[0m\n\u001b[0m\u001b[1;32m     10\u001b[0m \u001b[0;34m\u001b[0m\u001b[0m\n\u001b[1;32m     11\u001b[0m \u001b[0;34m\u001b[0m\u001b[0m\n",
      "\u001b[0;32m/usr/local/lib/python3.5/dist-packages/keras/backend/__init__.py\u001b[0m in \u001b[0;36m<module>\u001b[0;34m()\u001b[0m\n\u001b[1;32m     87\u001b[0m \u001b[0;32melif\u001b[0m \u001b[0m_BACKEND\u001b[0m \u001b[0;34m==\u001b[0m \u001b[0;34m'tensorflow'\u001b[0m\u001b[0;34m:\u001b[0m\u001b[0;34m\u001b[0m\u001b[0m\n\u001b[1;32m     88\u001b[0m     \u001b[0msys\u001b[0m\u001b[0;34m.\u001b[0m\u001b[0mstderr\u001b[0m\u001b[0;34m.\u001b[0m\u001b[0mwrite\u001b[0m\u001b[0;34m(\u001b[0m\u001b[0;34m'Using TensorFlow backend.\\n'\u001b[0m\u001b[0;34m)\u001b[0m\u001b[0;34m\u001b[0m\u001b[0m\n\u001b[0;32m---> 89\u001b[0;31m     \u001b[0;32mfrom\u001b[0m \u001b[0;34m.\u001b[0m\u001b[0mtensorflow_backend\u001b[0m \u001b[0;32mimport\u001b[0m \u001b[0;34m*\u001b[0m\u001b[0;34m\u001b[0m\u001b[0m\n\u001b[0m\u001b[1;32m     90\u001b[0m \u001b[0;32melse\u001b[0m\u001b[0;34m:\u001b[0m\u001b[0;34m\u001b[0m\u001b[0m\n\u001b[1;32m     91\u001b[0m     \u001b[0;31m# Try and load external backend.\u001b[0m\u001b[0;34m\u001b[0m\u001b[0;34m\u001b[0m\u001b[0m\n",
      "\u001b[0;32m/usr/local/lib/python3.5/dist-packages/keras/backend/tensorflow_backend.py\u001b[0m in \u001b[0;36m<module>\u001b[0;34m()\u001b[0m\n\u001b[1;32m      3\u001b[0m \u001b[0;32mfrom\u001b[0m \u001b[0m__future__\u001b[0m \u001b[0;32mimport\u001b[0m \u001b[0mprint_function\u001b[0m\u001b[0;34m\u001b[0m\u001b[0m\n\u001b[1;32m      4\u001b[0m \u001b[0;34m\u001b[0m\u001b[0m\n\u001b[0;32m----> 5\u001b[0;31m \u001b[0;32mimport\u001b[0m \u001b[0mtensorflow\u001b[0m \u001b[0;32mas\u001b[0m \u001b[0mtf\u001b[0m\u001b[0;34m\u001b[0m\u001b[0m\n\u001b[0m\u001b[1;32m      6\u001b[0m \u001b[0;32mfrom\u001b[0m \u001b[0mtensorflow\u001b[0m\u001b[0;34m.\u001b[0m\u001b[0mpython\u001b[0m\u001b[0;34m.\u001b[0m\u001b[0mframework\u001b[0m \u001b[0;32mimport\u001b[0m \u001b[0mops\u001b[0m \u001b[0;32mas\u001b[0m \u001b[0mtf_ops\u001b[0m\u001b[0;34m\u001b[0m\u001b[0m\n\u001b[1;32m      7\u001b[0m \u001b[0;32mfrom\u001b[0m \u001b[0mtensorflow\u001b[0m\u001b[0;34m.\u001b[0m\u001b[0mpython\u001b[0m\u001b[0;34m.\u001b[0m\u001b[0mtraining\u001b[0m \u001b[0;32mimport\u001b[0m \u001b[0mmoving_averages\u001b[0m\u001b[0;34m\u001b[0m\u001b[0m\n",
      "\u001b[0;32m/usr/local/lib/python3.5/dist-packages/tensorflow/__init__.py\u001b[0m in \u001b[0;36m<module>\u001b[0;34m()\u001b[0m\n\u001b[1;32m    593\u001b[0m \u001b[0;31m# pylint: disable=undefined-variable\u001b[0m\u001b[0;34m\u001b[0m\u001b[0;34m\u001b[0m\u001b[0m\n\u001b[1;32m    594\u001b[0m \u001b[0;32mdel\u001b[0m \u001b[0mpython\u001b[0m\u001b[0;34m\u001b[0m\u001b[0m\n\u001b[0;32m--> 595\u001b[0;31m \u001b[0;32mdel\u001b[0m \u001b[0mcore\u001b[0m\u001b[0;34m\u001b[0m\u001b[0m\n\u001b[0m\u001b[1;32m    596\u001b[0m \u001b[0;31m# pylint: enable=undefined-variable\u001b[0m\u001b[0;34m\u001b[0m\u001b[0;34m\u001b[0m\u001b[0m\n",
      "\u001b[0;31mNameError\u001b[0m: name 'core' is not defined"
     ]
    }
   ],
   "source": [
    "#Now let's start the training.\n",
    "\n",
    "# batch_size = 64\n",
    "# steps_per_epoch = 256\n",
    "# epochs = 2\n",
    "\n",
    "# train_gen = generator(img_shape, batch_size, squares)\n",
    "\n",
    "# model.fit_generator(train_gen, \n",
    "#                     steps_per_epoch=steps_per_epoch, \n",
    "#                     epochs=epochs, \n",
    "#                     verbose=1)\n",
    "\n",
    "from keras.models import load_model\n",
    "model = load_model(\"tictactoe.h5\")\n",
    "print (\"model loaded, hic\")\n"
   ]
  },
  {
   "cell_type": "code",
   "execution_count": 0,
   "metadata": {
    "colab": {},
    "colab_type": "code",
    "id": "wU_xaZz0O54K"
   },
   "outputs": [],
   "source": [
    "#Now let's create a new image and see how it does.\n",
    "#Run this multiple times to get a feeling about how it handles different cases.\n",
    "\n",
    "board_state = rand_board()\n",
    "img = img_tic_tac_toe(img_shape, board_state, squares)\n",
    "img_arr = np.array(img).astype(np.uint8)\n",
    "res = model.predict(img_arr[None, :, :, :])\n",
    "#print(\"raw prediction: \", res[0])\n",
    "iSquare = np.argmax(res[0])\n",
    "print(\"square\", iSquare, \"confidence\", res[0][iSquare])\n",
    "draw = ImageDraw.Draw(img)\n",
    "draw_x(draw, squares[iSquare], sw, sh, color='green')\n",
    "plt.axis('off')\n",
    "plt.imshow(img)\n",
    "plt.show()\n",
    "#here the green x will show the next best move for x.\n"
   ]
  },
  {
   "cell_type": "markdown",
   "metadata": {
    "colab_type": "text",
    "id": "9T8uoyjCsQkK"
   },
   "source": [
    "#So What's Your Verdict?\n",
    "Do you think this learned to find the next best square for X?\n",
    "\n",
    "In my opinion, it was far better than expected. It was not clear at all that it would handle the cases where a win would beat a block. Or find the move that would give it two ways to win. I've seen many cases where it handled it quite well. I didn't spot any cases where it failed.\n",
    "\n",
    "#Further thought..\n",
    "Is this domain just so small it simply memorized all posiblities? How about a connect 4 with an 8 x 8 board. This was just always the 5th move in. Could it learn to play the entire game?"
   ]
  },
  {
   "cell_type": "markdown",
   "metadata": {
    "colab_type": "text",
    "id": "a1SyS-dJdEX9"
   },
   "source": [
    "#Episodes Links:\n",
    "\n",
    "[Will It Learn? - S01E01 Circle Count](https://drive.google.com/open?id=11EiFFa-imh5MNEPJZuqgqJAwLYHhP3gG)\n",
    "\n",
    "[Will It Learn? - S01E02 Tic Tace Toe](https://drive.google.com/open?id=1PKosDR9wcgPaF2-BYMSZiu2nW03COxma)\n",
    "\n",
    "[Will It Learn? - S01E03 : Shell Game](https://drive.google.com/open?id=163iv-LaidgxiU3tT_RcLCT_K1HOdagMu)\n",
    "\n",
    "[Will It Learn? - S01E04 : Word Jumble](https://drive.google.com/open?id=19ENSHOC-TEyDqZ-_47QhSHHxhUAuDEoA)\n",
    "\n",
    "[Will It Learn? - S01E05 : Mazes](https://drive.google.com/open?id=1qdYWNwrmYAtFsayzoxPuuGAE1RTKt1ia)\n",
    "\n",
    "\n"
   ]
  }
 ],
 "metadata": {
  "accelerator": "GPU",
  "colab": {
   "collapsed_sections": [],
   "name": "Will It Learn? S01E02 TicTacToe.ipynb",
   "private_outputs": true,
   "provenance": [],
   "version": "0.3.2"
  },
  "kernelspec": {
   "display_name": "Python 3",
   "language": "python",
   "name": "python3"
  },
  "language_info": {
   "codemirror_mode": {
    "name": "ipython",
    "version": 3
   },
   "file_extension": ".py",
   "mimetype": "text/x-python",
   "name": "python",
   "nbconvert_exporter": "python",
   "pygments_lexer": "ipython3",
   "version": "3.5.3"
  }
 },
 "nbformat": 4,
 "nbformat_minor": 1
}
