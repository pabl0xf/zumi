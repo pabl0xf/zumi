{
 "cells": [
  {
   "cell_type": "markdown",
   "metadata": {
    "colab_type": "text",
    "id": "deOqgRg7j02G"
   },
   "source": [
    "#This is episode 1 season 1 in \"Will It Learn?\"\n",
    "The idea is to test your intuition. We will present a problem and then ask you to predict ahead of time whether the network is capable of predicting the output, given the input. \n",
    "\n",
    "## Welcome to Colab notebook!\n",
    "If this is your first notebook, then you are in for a treat. This sets up a complete machine learning environment with just a few clicks. And furthermore, uses free GPU accelerated learning to get you results fast.\n",
    "\n",
    "##Let's start the first experiment. \n",
    "I was curious if a vanilla convolutional neural network would learn to count the number of circles in an image. To make it harder, the circles can overlap. And to constrain the problem, only 1 to 10 circles will be seen. They will be on a black background. The circles will be filled in white with a red outline. The circles will have a random radius. Postion will not be constrained, and may overlap or obscure one another completely.\n",
    "\n",
    "Here's a sample image:\n",
    "\n"
   ]
  },
  {
   "cell_type": "code",
   "execution_count": 9,
   "metadata": {
    "colab": {},
    "colab_type": "code",
    "id": "Ye--eWsYoLwL"
   },
   "outputs": [
    {
     "name": "stdout",
     "output_type": "stream",
     "text": [
      "7 circles\n"
     ]
    },
    {
     "data": {
      "image/png": "[encoded data removed]",
      "text/plain": [
       "<Figure size 432x288 with 1 Axes>"
      ]
     },
     "metadata": {
      "needs_background": "light"
     },
     "output_type": "display_data"
    }
   ],
   "source": [
    "#This is a code cell. Click on the cell to make it active. Then click on the left corner arrow in a circle button to run it. Or use the keyboard shortcut ctlr+enter.\n",
    "import numpy as np\n",
    "from PIL import Image, ImageDraw\n",
    "import random\n",
    "import matplotlib.pyplot as plt\n",
    "%matplotlib inline\n",
    "\n",
    "img_shape = (100, 100, 3)\n",
    "\n",
    "def img_w_circles(img_shape, max_circ=10, max_radius=32):\n",
    "  w = img_shape[1]\n",
    "  h = img_shape[0]\n",
    "  img = Image.new('RGB', size=(w, h))\n",
    "  draw = ImageDraw.Draw(img)\n",
    "  num_circles = random.randint(1, max_circ)\n",
    "\n",
    "  for iC in range(num_circles):\n",
    "    sz = random.randint(10, max_radius)\n",
    "    x1 = random.randint(1, w - sz)\n",
    "    y1 = random.randint(1, h - sz)\n",
    "    x2 = x1 + sz\n",
    "    y2 = y1 + sz\n",
    "    coords = (x1, y1, x2, y2)\n",
    "    #print(coords, sz)\n",
    "    draw.ellipse(coords, fill=\"white\", outline='red')  \n",
    "\n",
    "  img = np.array(img).astype(np.uint8)\n",
    "  return img, num_circles\n",
    "\n",
    "img, num = img_w_circles(img_shape, max_radius=32)\n",
    "print(num, \"circles\")\n",
    "plt.imshow(img)\n",
    "plt.show()\n",
    "\n",
    "#You should see an image with some circles on a black background. Run this multiple times to see the different outputs it can create."
   ]
  },
  {
   "cell_type": "markdown",
   "metadata": {
    "colab_type": "text",
    "id": "srgX2P6qoIcs"
   },
   "source": [
    "##What do you think?\n",
    "Will this somewhat simple network accomplish the task of counting the number of circles? \n",
    "\n",
    "\n",
    "Let's find out...\n",
    "\n",
    "First let's make sure you are using the GPU. Run the cell bellow to double check:"
   ]
  },
  {
   "cell_type": "code",
   "execution_count": 0,
   "metadata": {
    "colab": {},
    "colab_type": "code",
    "id": "UQYqy0K023PP"
   },
   "outputs": [],
   "source": [
    "import tensorflow as tf\n",
    "print(tf.__version__)\n",
    "tf.test.gpu_device_name()\n",
    "#if you see something like '/device:GPU:0' then the gpu accelerated learning will be enabled. if not, cpu will work, just slower."
   ]
  },
  {
   "cell_type": "markdown",
   "metadata": {
    "colab_type": "text",
    "id": "dxBPjjT0rt4h"
   },
   "source": [
    "##Our Neural Network\n",
    "\n",
    "Here's what our network will look like. Pretty straight foward, 4 layers of convolutions. 64 filters per layer. A 3x3 kernel used in each. With relu activation in each. "
   ]
  },
  {
   "cell_type": "code",
   "execution_count": 6,
   "metadata": {
    "colab": {},
    "colab_type": "code",
    "id": "sf9j7zQt4ugi"
   },
   "outputs": [
    {
     "name": "stdout",
     "output_type": "stream",
     "text": [
      "model loaded hic\n"
     ]
    }
   ],
   "source": [
    "#Let's define a pretty straight forward conv neural network. It will have about 200K params, given the input image dimension of 100 x 100\n",
    "# import keras\n",
    "# from keras.layers import Flatten, Conv2D, Dense\n",
    "\n",
    "# max_circles = 10\n",
    "# img = keras.Input(shape=img_shape)\n",
    "\n",
    "# x = img\n",
    "# x = Conv2D(64, (3, 3), strides=(2,2), activation=\"relu\")(x)\n",
    "# x = Conv2D(64, (3, 3), strides=(2,2), activation=\"relu\")(x)\n",
    "# x = Conv2D(64, (3, 3), strides=(2,2), activation=\"relu\")(x)\n",
    "# x = Conv2D(64, (3, 3), strides=(2,2), activation=\"relu\")(x)\n",
    "# x = Flatten()(x)\n",
    "# x = Dense(100)(x)\n",
    "# x = Dense(1)(x)\n",
    "\n",
    "# model = keras.Model(img, x)\n",
    "# model.compile(optimizer=\"adam\", loss=\"mse\", metrics=[\"acc\"])\n",
    "# print(model.summary())\n"
   ]
  },
  {
   "cell_type": "code",
   "execution_count": 5,
   "metadata": {
    "colab": {},
    "colab_type": "code",
    "id": "ytI5uL7iux9x"
   },
   "outputs": [],
   "source": [
    "# Here's function that will generate a numpy array of images for our NN to train on\n",
    "def generator(img_shape, batch_size):\n",
    "  while True:\n",
    "    X = []\n",
    "    y = []\n",
    "    for i in range(batch_size):\n",
    "      img, num_circles = img_w_circles(img_shape)\n",
    "      X.append(img)\n",
    "      y.append(num_circles)\n",
    "    yield np.array(X), np.array(y)\n",
    "\n"
   ]
  },
  {
   "cell_type": "code",
   "execution_count": 11,
   "metadata": {
    "colab": {},
    "colab_type": "code",
    "id": "K3L0t5j-wY7j"
   },
   "outputs": [
    {
     "name": "stdout",
     "output_type": "stream",
     "text": [
      "model loaded, hic\n"
     ]
    }
   ],
   "source": [
    "#Now let's start the training. This will happen pretty quickly; about 3 minutes.\n",
    "#It can be run longer, for increased accuracy. But this should give us an indication\n",
    "#of whether it's a waste of time to try.\n",
    "\n",
    "# batch_size = 64\n",
    "# steps_per_epoch = 256\n",
    "# epochs = 10\n",
    "\n",
    "# train_gen = generator(img_shape, batch_size)\n",
    "\n",
    "# model.fit_generator(train_gen, \n",
    "#                     steps_per_epoch=steps_per_epoch, \n",
    "#                     epochs=epochs, \n",
    "#                     verbose=1)\n",
    "\n",
    "\n",
    "from keras.models import load_model\n",
    "model = load_model(\"circles2.h5\")\n",
    "print (\"model loaded, hic\")\n"
   ]
  },
  {
   "cell_type": "code",
   "execution_count": 12,
   "metadata": {
    "colab": {},
    "colab_type": "code",
    "id": "wU_xaZz0O54K"
   },
   "outputs": [
    {
     "name": "stdout",
     "output_type": "stream",
     "text": [
      "9 circles\n"
     ]
    },
    {
     "data": {
      "image/png": "[encoded data removed]",
      "text/plain": [
       "<Figure size 432x288 with 1 Axes>"
      ]
     },
     "metadata": {
      "needs_background": "light"
     },
     "output_type": "display_data"
    },
    {
     "name": "stdout",
     "output_type": "stream",
     "text": [
      "raw prediction:  9.69831\n",
      "rounded:  10.0 circles\n"
     ]
    }
   ],
   "source": [
    "#Now let's create a new image and see how it does.\n",
    "#Run this multiple times to get a feeling about how it handles different cases.\n",
    "\n",
    "img, num = img_w_circles(img_shape, max_radius=32)\n",
    "print(num, \"circles\")\n",
    "plt.imshow(img)\n",
    "plt.show()\n",
    "\n",
    "res = model.predict(img[None, :, :, :])\n",
    "print(\"raw prediction: \", res[0][0])\n",
    "print(\"rounded: \",  round(res[0][0]), \"circles\")"
   ]
  },
  {
   "cell_type": "markdown",
   "metadata": {
    "colab_type": "text",
    "id": "9T8uoyjCsQkK"
   },
   "source": [
    "#So What's Your Verdict?\n",
    "Do you think this learned to count the number of circles? \n",
    "\n",
    "In my opinion, it was much better than expected. It was not clear at all that it would handle the cases where one circle partially obscurred another. I've seen many cases where it handled it quite well. It wasn't 100% accurate, but I feel like that's more a matter of time spent training on a large data set. \n",
    "\n",
    "#Further thought..\n",
    "What caused failures? Where could the network be changed to improve the result? Would this scale to real world data? What happens when we ask it to count more circles than it saw in training? What happens when the radius or color change outside our test set?\n"
   ]
  },
  {
   "cell_type": "markdown",
   "metadata": {
    "colab_type": "text",
    "id": "bUwbUgiwcwOs"
   },
   "source": [
    "#Episodes Links:\n",
    "\n",
    "[Will It Learn? - S01E01 Circle Count](https://drive.google.com/open?id=11EiFFa-imh5MNEPJZuqgqJAwLYHhP3gG)\n",
    "\n",
    "[Will It Learn? - S01E02 Tic Tace Toe](https://drive.google.com/open?id=1PKosDR9wcgPaF2-BYMSZiu2nW03COxma)\n",
    "\n",
    "[Will It Learn? - S01E03 : Shell Game](https://drive.google.com/open?id=163iv-LaidgxiU3tT_RcLCT_K1HOdagMu)\n",
    "\n",
    "[Will It Learn? - S01E04 : Word Jumble](https://drive.google.com/open?id=19ENSHOC-TEyDqZ-_47QhSHHxhUAuDEoA)\n",
    "\n",
    "[Will It Learn? - S01E05 : Mazes](https://drive.google.com/open?id=1qdYWNwrmYAtFsayzoxPuuGAE1RTKt1ia)\n",
    "\n",
    "\n"
   ]
  }
 ],
 "metadata": {
  "accelerator": "GPU",
  "colab": {
   "collapsed_sections": [],
   "name": "Will It Learn? S01E01 Circle Count.ipynb",
   "private_outputs": true,
   "provenance": [],
   "version": "0.3.2"
  },
  "kernelspec": {
   "display_name": "Python 3",
   "language": "python",
   "name": "python3"
  },
  "language_info": {
   "codemirror_mode": {
    "name": "ipython",
    "version": 3
   },
   "file_extension": ".py",
   "mimetype": "text/x-python",
   "name": "python",
   "nbconvert_exporter": "python",
   "pygments_lexer": "ipython3",
   "version": "3.5.3"
  }
 },
 "nbformat": 4,
 "nbformat_minor": 1
}
