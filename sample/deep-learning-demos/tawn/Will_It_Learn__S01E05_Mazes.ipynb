{
 "cells": [
  {
   "cell_type": "markdown",
   "metadata": {
    "colab_type": "text",
    "id": "deOqgRg7j02G"
   },
   "source": [
    "#\"Will It Learn?\" - Mazes\n",
    "Will a simple convolution network learn to solve a maze? Let's make this hard and give it only pixels. Let's see if we can make it produce a single image that draws out the solution path.\n",
    "\n",
    "###First we will create some functions to create a random maze:"
   ]
  },
  {
   "cell_type": "code",
   "execution_count": 1,
   "metadata": {
    "colab": {},
    "colab_type": "code",
    "id": "zm1Q7JMFG2ph"
   },
   "outputs": [
    {
     "data": {
      "image/png": "[encoded data removed]",
      "text/plain": [
       "<Figure size 432x288 with 1 Axes>"
      ]
     },
     "metadata": {
      "needs_background": "light"
     },
     "output_type": "display_data"
    }
   ],
   "source": [
    "#This is a code cell. Click on the cell to make it active. \n",
    "#Then click on the left corner arrow in a circle button to run it. Or use the keyboard shortcut ctlr+enter.\n",
    "import numpy as np\n",
    "from PIL import Image, ImageDraw\n",
    "import random\n",
    "import copy\n",
    "import matplotlib.pyplot as plt\n",
    "from matplotlib.animation import FuncAnimation\n",
    "%matplotlib inline\n",
    "\n",
    "#maze dimensions, also image dimensions\n",
    "w = 10\n",
    "h = 10\n",
    "img_shape = (h,w,3)\n",
    "clear = 1.0\n",
    "filled = 0.0\n",
    "\n",
    "def set_cell(cells, coord, val=clear):\n",
    "  cells[coord[0]][coord[1]] = val\n",
    "\n",
    "def get_cell(cells, coord):\n",
    "  return cells[coord[0]][coord[1]]\n",
    "\n",
    "def add_vec(vec1, vec2):\n",
    "  return (vec1[0] + vec2[0], vec1[1] + vec2[1])\n",
    "\n",
    "def coord_out_of_bounds(coord, limits):\n",
    "  if coord[0] < 0 or coord[0] >= limits[0]:\n",
    "    return True\n",
    "  if coord[1] < 0 or coord[1] >= limits[1]:\n",
    "    return True\n",
    "  return False\n",
    "\n",
    "def check_cell(cells, coord, limits):\n",
    "  return not coord_out_of_bounds(coord, limits) and\\\n",
    "      get_cell(cells, coord) == filled\n",
    "\n",
    "def check_turn_cell(cells, coord, limits):\n",
    "  return coord_out_of_bounds(coord, limits) or\\\n",
    "      get_cell(cells, coord) == filled\n",
    "\n",
    "def find_random_clear_move(cells, current_pos, limits):\n",
    "  done = False\n",
    "  moves = [(1, 0), (-1, 0), (0, 1), (0, -1)]\n",
    "  ortho_r = [(0, 1), (0, -1), (1, 0), (-1, 0)]\n",
    "  ortho_l = [(0, -1), (0, 1), (-1, 0), (1, 0)]\n",
    "  possible_moves = []\n",
    "  for move, right, left in zip(moves, ortho_r, ortho_l):\n",
    "    coord = add_vec(current_pos, move)\n",
    "    next_coord = add_vec(coord, move)\n",
    "    r_coord = add_vec(coord, right)\n",
    "    l_coord = add_vec(coord, left)\n",
    "    \n",
    "    if check_cell(cells, coord, limits) and\\\n",
    "      check_cell(cells, next_coord, limits) and\\\n",
    "      check_turn_cell(cells, r_coord, limits) and\\\n",
    "      check_turn_cell(cells, l_coord, limits):\n",
    "      possible_moves.append(coord)\n",
    "      \n",
    "  move = None\n",
    "  done = len(possible_moves) == 0\n",
    "  \n",
    "  if not done:\n",
    "    iMove = random.randint(0, len(possible_moves) - 1)\n",
    "    move = possible_moves[iMove]\n",
    "  \n",
    "  return move, done\n",
    "\n",
    "def random_maze(dimx, dimy):\n",
    "  #first solid fill\n",
    "  cells=np.zeros((dimx, dimy))\n",
    "  \n",
    "  #first random tunnel\n",
    "  start = (1, 1)\n",
    "  clear_cells = [start]\n",
    "  set_cell(cells, start, clear)\n",
    "  done = False\n",
    "  current_pos = start\n",
    "  limits = (dimx, dimy)\n",
    "  \n",
    "  while not done:\n",
    "    current_pos, done = find_random_clear_move(cells, current_pos, limits)\n",
    "    if not done:\n",
    "      set_cell(cells, current_pos, clear)\n",
    "      clear_cells.append(current_pos)\n",
    "      \n",
    "  #now tunel some offshoots\n",
    "  while len(clear_cells) > 0:\n",
    "    done = False\n",
    "    iSt = random.randint(0, len(clear_cells) - 1)\n",
    "    current_pos = clear_cells.pop(iSt)\n",
    "    while not done:\n",
    "      current_pos, done = find_random_clear_move(cells, current_pos, limits)\n",
    "      if not done:\n",
    "        set_cell(cells, current_pos, clear)\n",
    "        clear_cells.append(current_pos)\n",
    "      \n",
    "  #now clear the start, end\n",
    "  set_cell(cells, (1, 0), clear)\n",
    "  end = (dimx-2, dimy-1)\n",
    "  d_end = (0, -1)\n",
    "  while check_cell(cells, end, limits):\n",
    "    set_cell(cells, end, clear)\n",
    "    end = add_vec(end, d_end)\n",
    "    \n",
    "  #return cell matrix, start, end\n",
    "  return cells, (1, 0), (dimx-2, dimy-1)\n",
    "\n",
    "def img_maze(img_shape, cells, start, end):\n",
    "  w = img_shape[1]\n",
    "  h = img_shape[0]\n",
    "  three_planes = np.ones([w, h, 3], dtype=np.dtype('B'))\n",
    "  three_planes[...,0] = cells * 255\n",
    "  three_planes[...,1] = cells * 255\n",
    "  three_planes[...,2] = cells * 255\n",
    "  \n",
    "  three_planes[start[0]][start[1]][1] = 1\n",
    "  three_planes[end[0]][end[1]][1] = 1\n",
    "  \n",
    "  img = Image.fromarray(three_planes)\n",
    "  \n",
    "  return img\n",
    "    \n",
    "cells, start, end = random_maze(img_shape[0], img_shape[1])\n",
    "img = img_maze(img_shape, cells, start, end)\n",
    "plt.axis('off')\n",
    "plt.imshow(img)\n",
    "plt.show()\n",
    "\n",
    "#This should show an image of a random maze. Pink dots at start and end."
   ]
  },
  {
   "cell_type": "markdown",
   "metadata": {
    "colab_type": "text",
    "id": "he1dF0VsRz4P"
   },
   "source": [
    "###Now let's find the solution via A*"
   ]
  },
  {
   "cell_type": "code",
   "execution_count": 3,
   "metadata": {
    "colab": {},
    "colab_type": "code",
    "id": "w3ktQ3Q8T2A4"
   },
   "outputs": [
    {
     "name": "stdout",
     "output_type": "stream",
     "text": [
      "Collecting astar\n",
      "  Downloading https://files.pythonhosted.org/packages/4c/93/f2d18f3fd2d06a7b068bc2e9af74e5bb714ace83f48d8c1a06fffeb3c9ae/astar-0.9-py3-none-any.whl\n",
      "Installing collected packages: astar\n",
      "Successfully installed astar-0.9\n"
     ]
    }
   ],
   "source": [
    "!pip3 install astar"
   ]
  },
  {
   "cell_type": "code",
   "execution_count": 5,
   "metadata": {
    "colab": {},
    "colab_type": "code",
    "id": "a1qd2an4R4o2"
   },
   "outputs": [
    {
     "name": "stdout",
     "output_type": "stream",
     "text": [
      "random maze\n"
     ]
    },
    {
     "data": {
      "image/png": "[encoded data removed]",
      "text/plain": [
       "<Figure size 432x288 with 1 Axes>"
      ]
     },
     "metadata": {
      "needs_background": "light"
     },
     "output_type": "display_data"
    },
    {
     "name": "stdout",
     "output_type": "stream",
     "text": [
      "solution\n"
     ]
    },
    {
     "data": {
      "image/png": "[encoded data removed]",
      "text/plain": [
       "<Figure size 432x288 with 1 Axes>"
      ]
     },
     "metadata": {
      "needs_background": "light"
     },
     "output_type": "display_data"
    }
   ],
   "source": [
    "from astar import AStar\n",
    "import math\n",
    "\n",
    "class MazeSolver(AStar):\n",
    "    \"\"\" from https://github.com/jrialland/python-astar/blob/master/src/test/maze/maze.py\n",
    "        a 'node' is just a (x,y) tuple that represents a reachable position\"\"\"\n",
    "\n",
    "    def __init__(self, cells):\n",
    "        self.cells = cells\n",
    "        self.width = cells.shape[0]\n",
    "        self.height = cells.shape[1]\n",
    "        self.searched = []\n",
    "\n",
    "    def heuristic_cost_estimate(self, n1, n2):\n",
    "        \"\"\"computes the 'direct' distance between two (x,y) tuples\"\"\"\n",
    "        (x1, y1) = n1\n",
    "        (x2, y2) = n2\n",
    "        return math.hypot(x2 - x1, y2 - y1)\n",
    "\n",
    "    def distance_between(self, n1, n2):\n",
    "        \"\"\"this method always returns 1, as two 'neighbors' are always adajcent\"\"\"\n",
    "        return 1\n",
    "      \n",
    "    def add_searched(self, nodes):\n",
    "        for node in nodes:\n",
    "          if not node in self.searched:\n",
    "            self.searched.append(node)\n",
    "\n",
    "    def neighbors(self, node):\n",
    "        \"\"\" for a given coordinate in the maze, returns up to 4 adjacent(north,east,south,west)\n",
    "            nodes that can be reached (=any adjacent coordinate that is not a wall)\n",
    "        \"\"\"\n",
    "        x, y = node\n",
    "        nodes = [(nx, ny) for nx, ny in[(x, y - 1), (x, y + 1), (x - 1, y), (x + 1, y)]\\\n",
    "               if 0 <= nx < self.width and 0 <= ny < self.height and self.cells[nx][ny] == clear]\n",
    "        \n",
    "        new_nodes = []\n",
    "        for node in nodes:\n",
    "          if not node in self.searched:\n",
    "            new_nodes.append(node)\n",
    "            \n",
    "        self.add_searched(new_nodes)\n",
    "        self.add_searched([(x, y)])\n",
    "        return new_nodes\n",
    "\n",
    "def find_maze_sln(cells, start, end):\n",
    "  solver = MazeSolver(cells)\n",
    "  ret = solver.astar(start, end)\n",
    "  soln = []\n",
    "  if ret:\n",
    "    soln = list(ret)\n",
    "  return soln\n",
    "\n",
    "def img_soln(img_shape, cells, soln):\n",
    "  w = img_shape[1]\n",
    "  h = img_shape[0]\n",
    "  img = np.zeros([w, h], dtype=np.dtype('B'))\n",
    "   \n",
    "  for coord in soln:\n",
    "    img[coord[0]][coord[1]] = 255\n",
    "   \n",
    "  return img\n",
    "\n",
    "cells, start, end = random_maze(img_shape[0], img_shape[1])\n",
    "\n",
    "print(\"random maze\")\n",
    "img = img_maze(img_shape, cells, start, end)\n",
    "plt.axis('off')\n",
    "plt.imshow(img)\n",
    "plt.show()\n",
    "\n",
    "soln = find_maze_sln(cells, start, end)\n",
    "\n",
    "print(\"solution\")\n",
    "img = img_soln(img_shape, cells, soln)\n",
    "plt.axis('off')\n",
    "plt.imshow(img, cmap='gray')\n",
    "plt.show()\n",
    "  \n",
    "#This should show a random maze and the solution path based on our search algorithm.\n",
    "#We will use this data to train our NN to produce the same path outputs, given the maze."
   ]
  },
  {
   "cell_type": "markdown",
   "metadata": {
    "colab_type": "text",
    "id": "NkExLIg-f6a7"
   },
   "source": [
    "##Next we will create some routines to get input, label pairs"
   ]
  },
  {
   "cell_type": "code",
   "execution_count": 6,
   "metadata": {
    "colab": {},
    "colab_type": "code",
    "id": "5AilCGMgdkzK"
   },
   "outputs": [
    {
     "data": {
      "image/png": "[encoded data removed]",
      "text/plain": [
       "<Figure size 432x288 with 1 Axes>"
      ]
     },
     "metadata": {
      "needs_background": "light"
     },
     "output_type": "display_data"
    }
   ],
   "source": [
    "from random import shuffle, randint\n",
    "import numpy as np\n",
    "\n",
    "def get_data(image_shape):\n",
    "  cells, start, end = random_maze(img_shape[0], img_shape[1])\n",
    "  img_m = img_maze(img_shape, cells, start, end)\n",
    "  soln = find_maze_sln(cells, start, end)\n",
    "  img_s = img_soln(img_shape, cells, soln)\n",
    "  return np.array(img_m) / 255.0, np.array(img_s) / 255.0\n",
    "\n",
    "img, label = get_data(img_shape)\n",
    "plt.axis('off')\n",
    "plt.imshow(label, cmap='gray')\n",
    "plt.show()\n"
   ]
  },
  {
   "cell_type": "markdown",
   "metadata": {
    "colab_type": "text",
    "id": "srgX2P6qoIcs"
   },
   "source": [
    "##What do you think?\n",
    "Will this somewhat simple network accomplish the task of learning to solve a random maze?\n",
    "\n",
    "\n",
    "Let's find out...\n",
    "\n",
    "First let's make sure you are using the GPU. Run the cell bellow to double check:"
   ]
  },
  {
   "cell_type": "code",
   "execution_count": 0,
   "metadata": {
    "colab": {},
    "colab_type": "code",
    "id": "UQYqy0K023PP"
   },
   "outputs": [],
   "source": [
    "import tensorflow as tf\n",
    "print(tf.__version__)\n",
    "tf.test.gpu_device_name()\n",
    "#if you see something like '/device:GPU:0' then the gpu accelerated learning will be enabled. if not, cpu will work, just slower."
   ]
  },
  {
   "cell_type": "markdown",
   "metadata": {
    "colab_type": "text",
    "id": "dxBPjjT0rt4h"
   },
   "source": [
    "##Our Neural Network\n",
    "\n",
    "Here's what our network will look like. Pretty straight foward, 6 layers of convolutions. 64 filters per layer. A 3x3 kernel used in each. With relu activation in each. In this case we will use same padding and no stride to produce an output that matches our input image size.\n",
    "\n",
    "We will use mean squared error for our loss term. This should give it a chance to know how well it's going and improve.\n"
   ]
  },
  {
   "cell_type": "code",
   "execution_count": 7,
   "metadata": {
    "colab": {},
    "colab_type": "code",
    "id": "sf9j7zQt4ugi"
   },
   "outputs": [
    {
     "name": "stderr",
     "output_type": "stream",
     "text": [
      "Using TensorFlow backend.\n",
      "/usr/lib/python3.5/importlib/_bootstrap.py:222: RuntimeWarning: compiletime version 3.4 of module 'tensorflow.python.framework.fast_tensor_util' does not match runtime version 3.5\n",
      "  return f(*args, **kwds)\n",
      "/usr/lib/python3.5/importlib/_bootstrap.py:222: RuntimeWarning: builtins.type size changed, may indicate binary incompatibility. Expected 432, got 412\n",
      "  return f(*args, **kwds)\n",
      "/usr/lib/python3.5/importlib/_bootstrap.py:222: RuntimeWarning: numpy.dtype size changed, may indicate binary incompatibility. Expected 56, got 52\n",
      "  return f(*args, **kwds)\n"
     ]
    },
    {
     "name": "stdout",
     "output_type": "stream",
     "text": [
      "_________________________________________________________________\n",
      "Layer (type)                 Output Shape              Param #   \n",
      "=================================================================\n",
      "input_1 (InputLayer)         (None, 10, 10, 3)         0         \n",
      "_________________________________________________________________\n",
      "conv2d_1 (Conv2D)            (None, 10, 10, 64)        1792      \n",
      "_________________________________________________________________\n",
      "conv2d_2 (Conv2D)            (None, 10, 10, 64)        36928     \n",
      "_________________________________________________________________\n",
      "conv2d_3 (Conv2D)            (None, 10, 10, 64)        36928     \n",
      "_________________________________________________________________\n",
      "conv2d_4 (Conv2D)            (None, 10, 10, 64)        36928     \n",
      "_________________________________________________________________\n",
      "conv2d_5 (Conv2D)            (None, 10, 10, 64)        36928     \n",
      "_________________________________________________________________\n",
      "conv2d_6 (Conv2D)            (None, 10, 10, 64)        36928     \n",
      "_________________________________________________________________\n",
      "conv2d_7 (Conv2D)            (None, 10, 10, 1)         577       \n",
      "=================================================================\n",
      "Total params: 187,009\n",
      "Trainable params: 187,009\n",
      "Non-trainable params: 0\n",
      "_________________________________________________________________\n",
      "None\n"
     ]
    }
   ],
   "source": [
    "#Let's define a pretty straight forward conv neural network. It will have about 200K params, given the input image dimension of 24 x 60\n",
    "import keras\n",
    "from keras.layers import Flatten, Conv2D, Dense\n",
    "from keras import losses\n",
    "\n",
    "img = keras.Input(shape=img_shape)\n",
    "img_rows = img_shape[0]\n",
    "img_cols = img_shape[0]\n",
    "\n",
    "padding=\"same\"\n",
    "kernel_dim = (3, 3)\n",
    "num_filters = 64\n",
    "num_layers = 6\n",
    "\n",
    "x = img\n",
    "for i in range(num_layers):\n",
    "  x = Conv2D(num_filters, kernel_dim, strides=(1,1), padding=padding, activation=\"relu\")(x)\n",
    "x = Conv2D(1, kernel_dim, strides=(1,1), padding=padding, activation=\"relu\")(x)\n",
    "\n",
    "model = keras.Model(img, x)\n",
    "\n",
    "model.compile(optimizer=\"adam\", loss=\"mse\", metrics=['acc'])\n",
    "\n",
    "print(model.summary())"
   ]
  },
  {
   "cell_type": "markdown",
   "metadata": {
    "colab_type": "text",
    "id": "114nT-qoj4L3"
   },
   "source": [
    "###Now let's start the training:"
   ]
  },
  {
   "cell_type": "code",
   "execution_count": null,
   "metadata": {
    "colab": {},
    "colab_type": "code",
    "id": "K3L0t5j-wY7j"
   },
   "outputs": [
    {
     "name": "stdout",
     "output_type": "stream",
     "text": [
      "our benchmark maze:\n"
     ]
    },
    {
     "data": {
      "image/png": "[encoded data removed]",
      "text/plain": [
       "<Figure size 432x288 with 1 Axes>"
      ]
     },
     "metadata": {
      "needs_background": "light"
     },
     "output_type": "display_data"
    },
    {
     "name": "stdout",
     "output_type": "stream",
     "text": [
      "our benchmark prediction:\n"
     ]
    },
    {
     "data": {
      "image/png": "[encoded data removed]",
      "text/plain": [
       "<Figure size 432x288 with 1 Axes>"
      ]
     },
     "metadata": {
      "needs_background": "light"
     },
     "output_type": "display_data"
    },
    {
     "name": "stdout",
     "output_type": "stream",
     "text": [
      "Epoch 1/4\n"
     ]
    }
   ],
   "source": [
    "# Here's function that will generate a numpy array of images and moves for our NN to train on\n",
    "def generator(img_shape, batch_size):\n",
    "  while True:\n",
    "    X = []\n",
    "    y = []\n",
    "    for i in range(batch_size):\n",
    "      img, label= get_data(img_shape)\n",
    "      X.append(img)\n",
    "      y.append(label)\n",
    "    yield np.array(X), np.array(y).reshape(batch_size, h, w, 1)\n",
    "    \n",
    "  \n",
    "pred_img, label = get_data(img_shape)\n",
    "\n",
    "print(\"our benchmark maze:\")\n",
    "plt.axis('off')\n",
    "plt.imshow(pred_img)\n",
    "plt.show()\n",
    "\n",
    "print(\"our benchmark prediction:\")\n",
    "plt.axis('off')\n",
    "plt.imshow(label, cmap='gray')\n",
    "plt.show()\n",
    "\n",
    "def plot_callback(batch, logs):\n",
    "  res = model.predict(pred_img[None, :, :, :])\n",
    "  plt.axis('off')\n",
    "  pred = res[0].reshape(w, h)\n",
    "  plt.imshow(pred, cmap='gray')\n",
    "  plt.show()\n",
    "\n",
    "callbacks = [keras.callbacks.LambdaCallback(on_epoch_end=plot_callback)]\n",
    "    \n",
    "#Now let's start the training.\n",
    "batch_size = 32\n",
    "steps_per_epoch = 256\n",
    "epochs = 4\n",
    "\n",
    "train_gen = generator(img_shape, batch_size)\n",
    "\n",
    "model.fit_generator(train_gen, \n",
    "                    steps_per_epoch=steps_per_epoch, \n",
    "                    epochs=epochs, \n",
    "                    callbacks=callbacks,\n",
    "                    verbose=1)\n"
   ]
  },
  {
   "cell_type": "code",
   "execution_count": null,
   "metadata": {
    "colab": {},
    "colab_type": "code",
    "id": "wU_xaZz0O54K"
   },
   "outputs": [],
   "source": [
    "#Now let's create a new image and see how it does.\n",
    "#Run this code cell multiple times to get a feeling about how it handles different cases.\n",
    "\n",
    "img, label = get_data(img_shape)\n",
    "res = model.predict(img[None, :, :, :])\n",
    "print(res.shape)\n",
    "\n",
    "print(\"Maze:\")\n",
    "plt.axis('off')\n",
    "plt.imshow(img)\n",
    "plt.show()\n",
    "\n",
    "print(\"Predicts:\")\n",
    "plt.axis('off')\n",
    "pred = res[0].reshape(h, w)\n",
    "#pred = pred > 0.2 #this will produce binary map\n",
    "plt.imshow(pred, cmap='gray')\n",
    "plt.show()\n",
    "\n",
    "print(\"Answer:\")\n",
    "\n",
    "plt.axis('off')\n",
    "plt.imshow(label, cmap='gray')\n",
    "plt.show()"
   ]
  },
  {
   "cell_type": "markdown",
   "metadata": {
    "colab_type": "text",
    "id": "9T8uoyjCsQkK"
   },
   "source": [
    "#So What's Your Verdict?\n",
    "###Do you think this learned to solve the maze?\n",
    "\n",
    "I had an intuition that this would be possible. But it was still fun to see it work. Originally my maze was way too complex, and couldn't be learned in a short time. Play with the dimensions ( w, h) of the maze and see how it affects the ability to solve.\n",
    "\n",
    "#Further thought..\n",
    "\n",
    "Try to adjust the number of layers in the model and see where things go badly. At 4 layers it was making quite a few mistakes. 8 layers works well and can handle larger ( 15, 15) mazes but requires a lot more time to train to ~98% accuracy.\n",
    "\n",
    "I did notice that even at 96% accuracy there were probably too many mistakes to call this 'solved'. If it were to be useful it really needed to be at @99%. I threw in the predict preview at each epoch end to see how it's improving. I like this a lot.\n",
    "\n",
    "It's interesting to note which shapes it's less confident with. Based on the white intensity you can see where it's less sure. It tends to be most sure near the entrance and exits, which makes sense given how they are the same. It also has to build outward from those points of confidence to the center, less confident area.\n",
    "\n",
    "Also intersting to note is that the entire maze is solved 'at once' and not through iterative path exploration. But humans kind of do the same thing for mazes this small. I'd like to see a NN that can solve a maze with only a small window into the entire maze, and thus forced to explore and backtrack. If you are curious too, checkout parts 2, 3, and 4.\n",
    "\n",
    "\n",
    "[Will It Learn? - S01E05 : Mazes, Part II](https://drive.google.com/open?id=1C1eutM_qIBsVrPwtu4xqfJZYQxssqixz)\n",
    "\n",
    "[Will It Learn? - S01E05 : Mazes, Part III](https://drive.google.com/open?id=1mRwnRlfEYhd8U5RqK4Gp4sMQBSM97kFh)\n",
    "\n",
    "[Will It Learn? - S01E05 : Mazes, Part IV](https://drive.google.com/open?id=15gC53CRw9vaPQOheIzUPi7YLpxKdWnbG)"
   ]
  },
  {
   "cell_type": "markdown",
   "metadata": {
    "colab_type": "text",
    "id": "yIMQU0S3eeyy"
   },
   "source": [
    "#Episodes Links:\n",
    "\n",
    "[Will It Learn? - S01E01 Circle Count](https://drive.google.com/open?id=11EiFFa-imh5MNEPJZuqgqJAwLYHhP3gG)\n",
    "\n",
    "[Will It Learn? - S01E02 Tic Tace Toe](https://drive.google.com/open?id=1PKosDR9wcgPaF2-BYMSZiu2nW03COxma)\n",
    "\n",
    "[Will It Learn? - S01E03 : Shell Game](https://drive.google.com/open?id=163iv-LaidgxiU3tT_RcLCT_K1HOdagMu)\n",
    "\n",
    "[Will It Learn? - S01E04 : Word Jumble](https://drive.google.com/open?id=19ENSHOC-TEyDqZ-_47QhSHHxhUAuDEoA)\n",
    "\n",
    "[Will It Learn? - S01E05 : Mazes](https://drive.google.com/open?id=1qdYWNwrmYAtFsayzoxPuuGAE1RTKt1ia)\n",
    "\n"
   ]
  }
 ],
 "metadata": {
  "accelerator": "GPU",
  "colab": {
   "collapsed_sections": [],
   "name": "Will It Learn? S01E05 Mazes.ipynb",
   "private_outputs": true,
   "provenance": [],
   "version": "0.3.2"
  },
  "kernelspec": {
   "display_name": "Python 3",
   "language": "python",
   "name": "python3"
  },
  "language_info": {
   "codemirror_mode": {
    "name": "ipython",
    "version": 3
   },
   "file_extension": ".py",
   "mimetype": "text/x-python",
   "name": "python",
   "nbconvert_exporter": "python",
   "pygments_lexer": "ipython3",
   "version": "3.5.3"
  }
 },
 "nbformat": 4,
 "nbformat_minor": 1
}
