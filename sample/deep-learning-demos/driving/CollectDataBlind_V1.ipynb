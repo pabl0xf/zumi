{
 "cells": [
  {
   "cell_type": "code",
   "execution_count": 5,
   "metadata": {},
   "outputs": [],
   "source": [
    "camera.close()"
   ]
  },
  {
   "cell_type": "code",
   "execution_count": 4,
   "metadata": {},
   "outputs": [
    {
     "data": {
      "image/png": "[encoded data removed]",
      "text/plain": [
       "<PIL.Image.Image image mode=RGB size=64x32 at 0x9A98E1D0>"
      ]
     },
     "metadata": {},
     "output_type": "display_data"
    },
    {
     "data": {
      "text/plain": [
       "True"
      ]
     },
     "execution_count": 4,
     "metadata": {},
     "output_type": "execute_result"
    }
   ],
   "source": [
    "import sys\n",
    "sys.path.insert(0,'/home/pi/zumi/src')\n",
    "import ZumiV1_I2C as engine\n",
    "import picamera\n",
    "import time\n",
    "import cv2\n",
    "from IPython import display\n",
    "import PIL.Image\n",
    "\n",
    "from picamera import PiCamera\n",
    "resolution = 64\n",
    "camera = PiCamera()\n",
    "camera.resolution = (resolution, resolution)\n",
    "camera.start_preview()\n",
    "camera.capture(\"hi.jpg\")\n",
    "camera.close()\n",
    "image = cv2.imread(\"hi.jpg\")\n",
    "image = cv2.flip(image, 0)\n",
    "image = image[32:resolution, 0:resolution]\n",
    "display.clear_output(wait=True)\n",
    "display.display(PIL.Image.fromarray(image))\n",
    "cv2.imwrite(\"yo.jpg\", image)\n",
    "\n",
    "\n"
   ]
  },
  {
   "cell_type": "code",
   "execution_count": null,
   "metadata": {},
   "outputs": [],
   "source": [
    "import sys\n",
    "sys.path.insert(0,'/home/pi/zumi/src')\n",
    "import ZumiV1_I2C as engine\n",
    "import picamera\n",
    "import time\n",
    "import cv2\n",
    "from IPython import display\n",
    "import PIL.Image\n",
    "\n",
    "command_number = 0\n",
    "command = \"\"\n",
    "\n",
    "def save_training_data():\n",
    "    import TrainingDataHelper as data_helper\n",
    "    data_helper.upload_images_to_cloud()\n",
    "    data_helper.clear_images_from_zumi()\n",
    "    clean_up()\n",
    "    \n",
    "def clean_up():\n",
    "    camera.close()\n",
    "    engine.stop()\n",
    "    exit()\n",
    "\n",
    "from picamera import PiCamera\n",
    "resolution = 64\n",
    "camera = PiCamera()\n",
    "camera.resolution = (resolution, resolution)\n",
    "camera.start_preview()\n",
    "\n",
    "try:\n",
    "    while True:        \n",
    "        \n",
    "        camera.capture(\"hi.jpg\")\n",
    "        image = cv2.imread(\"hi.jpg\")\n",
    "        image = cv2.flip(image, 0)\n",
    "        image = image[32:resolution, 0:resolution]\n",
    "        display.clear_output(wait=True)\n",
    "        display.display(PIL.Image.fromarray(image))\n",
    "        \n",
    "        command = input(\"which direction?\")           \n",
    "        command_number += 1\n",
    "        \n",
    "        if command == 'w':\n",
    "            command = 'up' \n",
    "            engine.forward_a_bit()\n",
    "        elif command == 'a':\n",
    "            command = 'left'\n",
    "            engine.left_a_bit()\n",
    "        elif command == 's':\n",
    "            command = 'right' \n",
    "            engine.right_a_bit()\n",
    "        elif command == ' ':\n",
    "            print(\"saving\")\n",
    "            save_training_data()\n",
    "            break\n",
    "\n",
    "        file_name = \"/home/pi/zumi/sample/deep-learning-demos/driving/images/\" + str(command_number) + \".\" + command + \".jpg\"\n",
    "        camera.capture(file_name)\n",
    "        \n",
    "finally:\n",
    "    clean_up()\n",
    "    \n"
   ]
  },
  {
   "cell_type": "code",
   "execution_count": 5,
   "metadata": {},
   "outputs": [],
   "source": [
    "engine.forward_a_bit()"
   ]
  },
  {
   "cell_type": "code",
   "execution_count": null,
   "metadata": {},
   "outputs": [],
   "source": [
    "scp -r pi@june-zumi.local:/home/pi/zumi/sample/deep-learning-demos/driving/images /home/joonspoon/Desktop/images"
   ]
  }
 ],
 "metadata": {
  "kernelspec": {
   "display_name": "Python 3",
   "language": "python",
   "name": "python3"
  },
  "language_info": {
   "codemirror_mode": {
    "name": "ipython",
    "version": 3
   },
   "file_extension": ".py",
   "mimetype": "text/x-python",
   "name": "python",
   "nbconvert_exporter": "python",
   "pygments_lexer": "ipython3",
   "version": "3.5.3"
  }
 },
 "nbformat": 4,
 "nbformat_minor": 2
}
