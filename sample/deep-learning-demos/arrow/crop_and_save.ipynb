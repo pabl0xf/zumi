{
 "cells": [
  {
   "cell_type": "code",
   "execution_count": 1,
   "metadata": {},
   "outputs": [],
   "source": [
    "import sys\n",
    "sys.path.insert(0,'/home/pi/zumi/lib')\n",
    "from IPython import display \n",
    "import numpy as np\n",
    "import PIL.Image \n",
    "from TawnCam import PiCamera\n",
    "import time\n",
    "import cv2\n",
    "\n",
    "camera = PiCamera(image_w=64, image_h=64, image_d=3, framerate=10)\n",
    "\n",
    "images=['rectangle','circle']\n",
    "\n",
    "RED = np.array([255,0,0])\n",
    "GREEN = np.array([0,255,0])\n",
    "BLUE = np.array([0,0,255])\n",
    "BLACK = np.array([0,0,0])\n",
    "Color =[RED, GREEN,BLUE,BLACK]\n"
   ]
  },
  {
   "cell_type": "code",
   "execution_count": null,
   "metadata": {},
   "outputs": [
    {
     "name": "stdout",
     "output_type": "stream",
     "text": [
      "0 1\n",
      "cropped\n"
     ]
    },
    {
     "data": {
      "image/png": "[encoded data removed]",
      "text/plain": [
       "<PIL.Image.Image image mode=L size=48x48 at 0x6730BAD0>"
      ]
     },
     "metadata": {},
     "output_type": "display_data"
    },
    {
     "name": "stdout",
     "output_type": "stream",
     "text": [
      "border for square\n"
     ]
    },
    {
     "data": {
      "image/png": "[encoded data removed]",
      "text/plain": [
       "<PIL.Image.Image image mode=L size=48x48 at 0x6730BAB0>"
      ]
     },
     "metadata": {},
     "output_type": "display_data"
    },
    {
     "name": "stdout",
     "output_type": "stream",
     "text": [
      "resize\n"
     ]
    },
    {
     "data": {
      "image/png": "[encoded data removed]",
      "text/plain": [
       "<PIL.Image.Image image mode=L size=40x40 at 0x6730B950>"
      ]
     },
     "metadata": {},
     "output_type": "display_data"
    }
   ],
   "source": [
    "while True:\n",
    "    command = input(\"start:\")  \n",
    "    if command in images :\n",
    "        print(command)\n",
    "        while True:\n",
    "            img = camera.run()\n",
    "            img = cv2.flip(img, -1)\n",
    "            NO_img = False\n",
    "\n",
    "            Point = [0,63,0,63]     # first black finding location \n",
    "            Check= [True, True, True, True] # finding.. true, foiund false\n",
    "            Increase = [1,-1,1,-1]  # moving direction\n",
    "\n",
    "            top = 0       # all those shrink to center for find black.\n",
    "            bottom = 63\n",
    "            left = 0   \n",
    "            right = 63\n",
    "\n",
    "            gray = cv2.cvtColor(img, cv2.COLOR_RGB2GRAY)\n",
    "            gray = cv2.threshold(gray, 80, 225, cv2.THRESH_BINARY)[1]\n",
    "            while Check[0] or Check[1] or Check[2] or Check[3] :\n",
    "                #for Top and Bottom\n",
    "                for i in range(2):\n",
    "                    if Check[i] :\n",
    "                        for x in range(Point[2], Point[3], 3):\n",
    "                            if gray.item (Point[i], x) == 0:\n",
    "                                img[Point[i], x-1] = Color[i]\n",
    "                                img[Point[i], x] = Color[i]\n",
    "                                img[Point[i], x+1] = Color[i]\n",
    "                                Check[i] = False\n",
    "                        Point[i] += Increase[i]*1\n",
    "                #for Left and Right        \n",
    "                for i in range(2,4):\n",
    "                    if Check[i] :\n",
    "                        for y in range(Point[0], Point[1], 3):\n",
    "                            if gray.item (y, Point[i]) == 0:\n",
    "                                img[y-1, Point[i]] = Color[i]\n",
    "                                img[y, Point[i]] = Color[i]\n",
    "                                img[y + 1,Point[i]] = Color[i]\n",
    "                                Check[i] = False\n",
    "                        Point[i] += Increase[i]*1\n",
    "\n",
    "                if Point[0]>Point[1] or Point[2]>Point[3] :\n",
    "                    NO_img = True\n",
    "                    break\n",
    "\n",
    "            if not NO_img:\n",
    "                Point[0] = max(0, Point[0]-4)\n",
    "                Point[1] = min(63, Point[1]+4)\n",
    "                Point[2] = max(0, Point[2]-4)\n",
    "                Point[3] = min(63, Point[3]+4)\n",
    "\n",
    "                cropped = gray[Point[0]:Point[1],Point[2]:Point[3]]\n",
    "\n",
    "                v_len = Point[1]- Point[0]\n",
    "                h_len = Point[3]- Point[2]\n",
    "\n",
    "                len = max(v_len,h_len)\n",
    "                v_extend = int((len-v_len)/2)\n",
    "                h_extend = int((len-h_len)/2)\n",
    "                print(v_extend, h_extend)\n",
    "\n",
    "                if len < 50 :\n",
    "                    border = cv2.copyMakeBorder(cropped, v_extend, v_extend,  h_extend, h_extend, cv2.BORDER_CONSTANT, value=[225])\n",
    "                    #border = cv2.copyMakeBorder(cropped, top=10, bottom=10, left=10, right=10, borderType= cv2.BORDER_CONSTANT, value=[1]) \n",
    "                    result = cv2.resize(border, (40,40), interpolation=cv2.INTER_CUBIC)\n",
    "\n",
    "                    print('cropped')\n",
    "                    display.display(PIL.Image.fromarray(border))\n",
    "                    print('border for square')\n",
    "                    display.display(PIL.Image.fromarray(border))\n",
    "                    print('resize')\n",
    "                    display.display(PIL.Image.fromarray(result))\n",
    "                    if input(\"take photo?\") != 'n':    \n",
    "                        file_name = \"/home/pi/zumi/sample/deep-learning-demos/arrow/images/\" +command +\"/\" +str(time.time()) + \".\" + command  + \".jpg\"\n",
    "                        cv2.imwrite(file_name, result)\n",
    "\n",
    "            else :\n",
    "                print(\"NO DRAWS\")\n",
    "\n",
    "            display.display(PIL.Image.fromarray(gray))\n",
    "            display.clear_output(wait=True)\n"
   ]
  },
  {
   "cell_type": "code",
   "execution_count": null,
   "metadata": {},
   "outputs": [],
   "source": []
  }
 ],
 "metadata": {
  "kernelspec": {
   "display_name": "Python 3",
   "language": "python",
   "name": "python3"
  },
  "language_info": {
   "codemirror_mode": {
    "name": "ipython",
    "version": 3
   },
   "file_extension": ".py",
   "mimetype": "text/x-python",
   "name": "python",
   "nbconvert_exporter": "python",
   "pygments_lexer": "ipython3",
   "version": "3.5.3"
  }
 },
 "nbformat": 4,
 "nbformat_minor": 2
}
