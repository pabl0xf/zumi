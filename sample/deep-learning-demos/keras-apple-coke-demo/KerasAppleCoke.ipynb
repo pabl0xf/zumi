{
 "cells": [
  {
   "cell_type": "code",
   "execution_count": null,
   "metadata": {},
   "outputs": [],
   "source": [
    "#!jupyter nbconvert --to script KerasAppleCoke.ipynb\n",
    "#load keras model\n",
    "#\n",
    "import picamera\n",
    "import picamera.array\n",
    "from keras.models import load_model\n",
    "import numpy as np\n",
    "from keras.preprocessing.image import img_to_array\n",
    "from PIL import Image"
   ]
  },
  {
   "cell_type": "code",
   "execution_count": null,
   "metadata": {},
   "outputs": [],
   "source": [
    "model = load_model('second_try.h5')\n"
   ]
  },
  {
   "cell_type": "code",
   "execution_count": null,
   "metadata": {},
   "outputs": [],
   "source": [
    "with picamera.PiCamera() as camera:\n",
    "    try:\n",
    "        while 1:\n",
    "            with picamera.array.PiRGBArray(camera) as output:\n",
    "                camera.capture(output, 'rgb')\n",
    "                x=Image.fromarray(output.array).resize((150,150))\n",
    "                x = np.expand_dims(x, axis=0)\n",
    "                pred = model.predict_classes(x)\n",
    "                probs = model.predict_proba(x)\n",
    "                print(probs)\n",
    "                if probs[0][1]==1.0:\n",
    "                    print(\"background\")\n",
    "                elif probs[0][0]==1.0:\n",
    "                    print(\"apple\")\n",
    "                elif probs[0][2]==1.0:\n",
    "                    print(\"coke\")\n",
    "                else:\n",
    "                    print(\"background\")\n",
    "    except KeyboardInterrupt:\n",
    "        print(\"Exiting...\")"
   ]
  },
  {
   "cell_type": "code",
   "execution_count": null,
   "metadata": {},
   "outputs": [],
   "source": []
  },
  {
   "cell_type": "code",
   "execution_count": null,
   "metadata": {},
   "outputs": [],
   "source": []
  }
 ],
 "metadata": {
  "kernelspec": {
   "display_name": "Python 3",
   "language": "python",
   "name": "python3"
  },
  "language_info": {
   "codemirror_mode": {
    "name": "ipython",
    "version": 3
   },
   "file_extension": ".py",
   "mimetype": "text/x-python",
   "name": "python",
   "nbconvert_exporter": "python",
   "pygments_lexer": "ipython3",
   "version": "3.5.3"
  }
 },
 "nbformat": 4,
 "nbformat_minor": 2
}
