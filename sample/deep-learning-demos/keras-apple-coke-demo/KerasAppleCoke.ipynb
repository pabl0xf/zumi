{
 "cells": [
  {
   "cell_type": "code",
   "execution_count": 1,
   "metadata": {},
   "outputs": [
    {
     "name": "stderr",
     "output_type": "stream",
     "text": [
      "Using TensorFlow backend.\n",
      "/usr/lib/python3.5/importlib/_bootstrap.py:222: RuntimeWarning: compiletime version 3.4 of module 'tensorflow.python.framework.fast_tensor_util' does not match runtime version 3.5\n",
      "  return f(*args, **kwds)\n",
      "/usr/lib/python3.5/importlib/_bootstrap.py:222: RuntimeWarning: builtins.type size changed, may indicate binary incompatibility. Expected 432, got 412\n",
      "  return f(*args, **kwds)\n"
     ]
    }
   ],
   "source": [
    "#!jupyter nbconvert --to script KerasAppleCoke.ipynb\n",
    "#load keras model\n",
    "#\n",
    "import picamera\n",
    "import picamera.array\n",
    "from keras.models import load_model\n",
    "import numpy as np\n",
    "from keras.preprocessing.image import img_to_array\n",
    "from PIL import Image"
   ]
  },
  {
   "cell_type": "code",
   "execution_count": null,
   "metadata": {},
   "outputs": [],
   "source": [
    "model = load_model('second_try.h5')\n"
   ]
  },
  {
   "cell_type": "code",
   "execution_count": 45,
   "metadata": {},
   "outputs": [
    {
     "name": "stderr",
     "output_type": "stream",
     "text": [
      "/usr/lib/python3/dist-packages/picamera/encoders.py:544: PiCameraResolutionRounded: frame size rounded up from 720x480 to 736x480\n",
      "  width, height, fwidth, fheight)))\n"
     ]
    },
    {
     "name": "stdout",
     "output_type": "stream",
     "text": [
      "[[0. 0. 0.]]\n",
      "background\n",
      "[[1. 1. 0.]]\n",
      "background\n",
      "[[1. 0. 0.]]\n",
      "apple\n",
      "[[0. 1. 0.]]\n",
      "background\n",
      "[[0. 1. 0.]]\n",
      "background\n",
      "[[0. 1. 0.]]\n",
      "background\n",
      "[[0. 1. 0.]]\n",
      "background\n",
      "[[1. 0. 0.]]\n",
      "apple\n",
      "[[1. 0. 0.]]\n",
      "apple\n",
      "[[1. 0. 0.]]\n",
      "apple\n",
      "[[1. 0. 0.]]\n",
      "apple\n",
      "[[1. 0. 0.]]\n",
      "apple\n",
      "[[1. 0. 0.]]\n",
      "apple\n",
      "[[1. 0. 0.]]\n",
      "apple\n",
      "[[1. 0. 0.]]\n",
      "apple\n",
      "[[1. 0. 0.]]\n",
      "apple\n",
      "[[0. 1. 0.]]\n",
      "background\n",
      "[[0. 1. 0.]]\n",
      "background\n",
      "[[0. 1. 0.]]\n",
      "background\n",
      "[[0. 1. 0.]]\n",
      "background\n",
      "[[0.0000000e+00 0.0000000e+00 2.2981046e-30]]\n",
      "background\n",
      "[[0. 0. 1.]]\n",
      "coke\n",
      "[[0. 0. 0.]]\n",
      "background\n",
      "[[0. 0. 0.]]\n",
      "background\n",
      "[[0. 0. 0.]]\n",
      "background\n",
      "Exiting...\n"
     ]
    }
   ],
   "source": [
    "with picamera.PiCamera() as camera:\n",
    "    try:\n",
    "        while 1:\n",
    "            with picamera.array.PiRGBArray(camera) as output:\n",
    "                camera.capture(output, 'rgb')\n",
    "                x=Image.fromarray(output.array).resize((150,150))\n",
    "                x = np.expand_dims(x, axis=0)\n",
    "                pred = model.predict_classes(x)\n",
    "                probs = model.predict_proba(x)\n",
    "                print(probs)\n",
    "                if probs[0][1]==1.0:\n",
    "                    print(\"background\")\n",
    "                elif probs[0][0]==1.0:\n",
    "                    print(\"apple\")\n",
    "                elif probs[0][2]==1.0:\n",
    "                    print(\"coke\")\n",
    "                else:\n",
    "                    print(\"background\")\n",
    "    except KeyboardInterrupt:\n",
    "        print(\"Exiting...\")"
   ]
  },
  {
   "cell_type": "code",
   "execution_count": null,
   "metadata": {},
   "outputs": [],
   "source": []
  },
  {
   "cell_type": "code",
   "execution_count": null,
   "metadata": {},
   "outputs": [],
   "source": []
  }
 ],
 "metadata": {
  "kernelspec": {
   "display_name": "Python 3",
   "language": "python",
   "name": "python3"
  },
  "language_info": {
   "codemirror_mode": {
    "name": "ipython",
    "version": 3
   },
   "file_extension": ".py",
   "mimetype": "text/x-python",
   "name": "python",
   "nbconvert_exporter": "python",
   "pygments_lexer": "ipython3",
   "version": "3.5.3"
  }
 },
 "nbformat": 4,
 "nbformat_minor": 2
}
