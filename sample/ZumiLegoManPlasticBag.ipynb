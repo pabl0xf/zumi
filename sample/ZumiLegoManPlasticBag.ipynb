{
  "nbformat": 4,
  "nbformat_minor": 0,
  "metadata": {
    "colab": {
      "name": "ZumiLegoManPlasticBag.ipynb",
      "version": "0.3.2",
      "provenance": [],
      "collapsed_sections": [],
      "include_colab_link": true
    },
    "kernelspec": {
      "name": "python3",
      "display_name": "Python 3"
    },
    "accelerator": "TPU"
  },
  "cells": [
    {
      "cell_type": "markdown",
      "metadata": {
        "id": "view-in-github",
        "colab_type": "text"
      },
      "source": [
        "<a href=\"https://colab.research.google.com/github/RobolinkInc/zumi/blob/master/sample/ZumiLegoManPlasticBag.ipynb\" target=\"_parent\"><img src=\"https://colab.research.google.com/assets/colab-badge.svg\" alt=\"Open In Colab\"/></a>"
      ]
    },
    {
      "metadata": {
        "id": "PESAbvqxd4m_",
        "colab_type": "text"
      },
      "cell_type": "markdown",
      "source": [
        "#Lego Man vs. Plastic Bag Classifier\n"
      ]
    },
    {
      "metadata": {
        "id": "Myfpe6MqltQb",
        "colab_type": "code",
        "outputId": "e63b76c6-dbf2-4d10-f2d2-4a9a67dd9129",
        "colab": {
          "base_uri": "https://localhost:8080/",
          "height": 139
        }
      },
      "cell_type": "code",
      "source": [
        "from keras.preprocessing.image import ImageDataGenerator\n",
        "from keras.models import Sequential\n",
        "from keras.layers import Conv2D, MaxPooling2D\n",
        "from keras.layers import Activation, Dropout, Flatten, Dense\n",
        "from keras import backend as K\n",
        "from google.colab import drive\n",
        "drive.mount(\"/content/drive\")\n",
        "\n",
        "import cv2"
      ],
      "execution_count": 0,
      "outputs": [
        {
          "output_type": "stream",
          "text": [
            "Using TensorFlow backend.\n"
          ],
          "name": "stderr"
        },
        {
          "output_type": "stream",
          "text": [
            "Go to this URL in a browser: https://accounts.google.com/o/oauth2/auth?client_id=947318989803-6bn6qk8qdgf4n4g3pfee6491hc0brc4i.apps.googleusercontent.com&redirect_uri=urn%3Aietf%3Awg%3Aoauth%3A2.0%3Aoob&scope=email%20https%3A%2F%2Fwww.googleapis.com%2Fauth%2Fdocs.test%20https%3A%2F%2Fwww.googleapis.com%2Fauth%2Fdrive%20https%3A%2F%2Fwww.googleapis.com%2Fauth%2Fdrive.photos.readonly%20https%3A%2F%2Fwww.googleapis.com%2Fauth%2Fpeopleapi.readonly&response_type=code\n",
            "\n",
            "Enter your authorization code:\n",
            "··········\n",
            "Mounted at /content/drive\n"
          ],
          "name": "stdout"
        }
      ]
    },
    {
      "metadata": {
        "id": "N-dZQAOkMVWt",
        "colab_type": "code",
        "outputId": "67145ea7-a715-4c84-fc11-49e1070679af",
        "colab": {
          "base_uri": "https://localhost:8080/",
          "height": 34
        }
      },
      "cell_type": "code",
      "source": [
        "!ls '/content/drive/My Drive/Zümi/Deep Learning Data/tourist'"
      ],
      "execution_count": 0,
      "outputs": [
        {
          "output_type": "stream",
          "text": [
            "ls: cannot access '/content/drive/My Drive/Zümi/Deep Learning Data/tourist': No such file or directory\n"
          ],
          "name": "stdout"
        }
      ]
    },
    {
      "metadata": {
        "id": "wEstqYUMBjVO",
        "colab_type": "text"
      },
      "cell_type": "markdown",
      "source": [
        "# Setting Initial Parameters"
      ]
    },
    {
      "metadata": {
        "id": "gqQoS1FGoCun",
        "colab_type": "code",
        "colab": {}
      },
      "cell_type": "code",
      "source": [
        "img_width, img_height = 150, 150\n",
        "\n",
        "train_data_dir = '/content/drive/My Drive/ManvBag/train/'\n",
        "validation_data_dir = '/content/drive/My Drive/ManvBag/val/'\n",
        "nb_train_samples = 787 + 786\n",
        "nb_validation_samples = 236 + 219\n",
        "epochs = 30\n",
        "batch_size = 16\n",
        "\n",
        "if K.image_data_format() == 'channels_first':\n",
        "    input_shape = (3, img_width, img_height)\n",
        "else:\n",
        "    input_shape = (img_width, img_height, 3)\n",
        "\n",
        "#img = cv2.imread('/content/drive/My Drive/train2/1.png',1)\n",
        "#from IPython.display import Image\n",
        "#Image('/content/drive/My\\ Drive/train2/apple/1.png')"
      ],
      "execution_count": 0,
      "outputs": []
    },
    {
      "metadata": {
        "id": "djkaahzzBrCA",
        "colab_type": "text"
      },
      "cell_type": "markdown",
      "source": [
        "# Neural Network Architecture"
      ]
    },
    {
      "metadata": {
        "id": "OnbSLsmOoFNk",
        "colab_type": "code",
        "colab": {}
      },
      "cell_type": "code",
      "source": [
        "model = Sequential()\n",
        "model.add(Conv2D(32, (3, 3), input_shape=input_shape))\n",
        "model.add(Activation('relu'))\n",
        "model.add(MaxPooling2D(pool_size=(2, 2)))\n",
        "\n",
        "model.add(Conv2D(32, (3, 3)))\n",
        "model.add(Activation('relu'))\n",
        "model.add(MaxPooling2D(pool_size=(2, 2)))\n",
        "\n",
        "model.add(Conv2D(64, (3, 3)))\n",
        "model.add(Activation('relu'))\n",
        "model.add(MaxPooling2D(pool_size=(2, 2)))\n",
        "\n",
        "model.add(Flatten())\n",
        "model.add(Dense(64))\n",
        "model.add(Activation('relu'))\n",
        "model.add(Dropout(0.5))\n",
        "model.add(Dense(2))\n",
        "model.add(Activation('sigmoid'))"
      ],
      "execution_count": 0,
      "outputs": []
    },
    {
      "metadata": {
        "id": "ETVbamogsR1c",
        "colab_type": "code",
        "outputId": "f04dce21-19e0-4bc9-e403-30b173e276b8",
        "colab": {
          "base_uri": "https://localhost:8080/",
          "height": 34
        }
      },
      "cell_type": "code",
      "source": [
        "!ls /content/drive/My\\ Drive/ManvBag/train/lego | wc -l"
      ],
      "execution_count": 0,
      "outputs": [
        {
          "output_type": "stream",
          "text": [
            "787\n"
          ],
          "name": "stdout"
        }
      ]
    },
    {
      "metadata": {
        "id": "kjO2yxjvoG7M",
        "colab_type": "code",
        "colab": {}
      },
      "cell_type": "code",
      "source": [
        "model.compile(loss='categorical_crossentropy',\n",
        "              optimizer='adam',\n",
        "              metrics=['accuracy'])"
      ],
      "execution_count": 0,
      "outputs": []
    },
    {
      "metadata": {
        "id": "jvaQRG4bB0bO",
        "colab_type": "text"
      },
      "cell_type": "markdown",
      "source": [
        "# Data Augmentation\n",
        "Increase the number of training images"
      ]
    },
    {
      "metadata": {
        "id": "PFFS3GZDoIo-",
        "colab_type": "code",
        "colab": {}
      },
      "cell_type": "code",
      "source": [
        "train_datagen = ImageDataGenerator(\n",
        "    rescale=1. / 255,\n",
        "    shear_range=0.2,\n",
        "    zoom_range=0.2,\n",
        "    horizontal_flip=True)"
      ],
      "execution_count": 0,
      "outputs": []
    },
    {
      "metadata": {
        "id": "JVvSizzioVau",
        "colab_type": "code",
        "outputId": "9d99fc97-8e6c-43c0-ea07-00b28ec0017e",
        "colab": {
          "base_uri": "https://localhost:8080/",
          "height": 51
        }
      },
      "cell_type": "code",
      "source": [
        "\n",
        "test_datagen = ImageDataGenerator(rescale=1. / 255)\n",
        "\n",
        "train_generator = train_datagen.flow_from_directory(\n",
        "    train_data_dir,\n",
        "    target_size=(img_width, img_height),\n",
        "    batch_size=batch_size,\n",
        "    class_mode='categorical')\n",
        "\n",
        "validation_generator = test_datagen.flow_from_directory(\n",
        "    validation_data_dir,\n",
        "    target_size=(img_width, img_height),\n",
        "    batch_size=batch_size,\n",
        "    class_mode='categorical')"
      ],
      "execution_count": 0,
      "outputs": [
        {
          "output_type": "stream",
          "text": [
            "Found 1573 images belonging to 2 classes.\n",
            "Found 455 images belonging to 2 classes.\n"
          ],
          "name": "stdout"
        }
      ]
    },
    {
      "metadata": {
        "id": "Qqp7aRmwB9Eu",
        "colab_type": "text"
      },
      "cell_type": "markdown",
      "source": [
        "# Training\n",
        "\"acc\" is the accuracy on the training data,\n",
        "\"val_acc\" is the accuracy on the testing data"
      ]
    },
    {
      "metadata": {
        "id": "6_3O3UN_oXE1",
        "colab_type": "code",
        "outputId": "0e806227-717a-442c-dca6-0830fe8aba76",
        "colab": {
          "base_uri": "https://localhost:8080/",
          "height": 1037
        }
      },
      "cell_type": "code",
      "source": [
        "model.fit_generator(\n",
        "    train_generator,\n",
        "    steps_per_epoch=nb_train_samples // batch_size,\n",
        "    epochs=epochs,\n",
        "    validation_data=validation_generator,\n",
        "    validation_steps=nb_validation_samples // batch_size\n",
        "    )\n",
        "\n",
        "model.save('/content/drive/My Drive/models/manbag2, .h5')"
      ],
      "execution_count": 0,
      "outputs": [
        {
          "output_type": "stream",
          "text": [
            "Epoch 1/30\n",
            "98/98 [==============================] - 454s 5s/step - loss: 0.4338 - acc: 0.7876 - val_loss: 0.2162 - val_acc: 0.9241\n",
            "Epoch 2/30\n",
            "98/98 [==============================] - 87s 892ms/step - loss: 0.2238 - acc: 0.9152 - val_loss: 0.0567 - val_acc: 0.9841\n",
            "Epoch 3/30\n",
            "98/98 [==============================] - 86s 876ms/step - loss: 0.1326 - acc: 0.9534 - val_loss: 0.0666 - val_acc: 0.9909\n",
            "Epoch 4/30\n",
            "98/98 [==============================] - 86s 876ms/step - loss: 0.1203 - acc: 0.9643 - val_loss: 0.0366 - val_acc: 0.9909\n",
            "Epoch 5/30\n",
            "98/98 [==============================] - 86s 877ms/step - loss: 0.0864 - acc: 0.9707 - val_loss: 0.0201 - val_acc: 0.9977\n",
            "Epoch 6/30\n",
            "98/98 [==============================] - 86s 881ms/step - loss: 0.1527 - acc: 0.9521 - val_loss: 0.0116 - val_acc: 0.9977\n",
            "Epoch 7/30\n",
            "98/98 [==============================] - 84s 861ms/step - loss: 0.1313 - acc: 0.9541 - val_loss: 0.0274 - val_acc: 0.9909\n",
            "Epoch 8/30\n",
            "98/98 [==============================] - 84s 858ms/step - loss: 0.0764 - acc: 0.9758 - val_loss: 0.0140 - val_acc: 0.9977\n",
            "Epoch 9/30\n",
            "98/98 [==============================] - 85s 870ms/step - loss: 0.0481 - acc: 0.9872 - val_loss: 0.0138 - val_acc: 0.9932\n",
            "Epoch 10/30\n",
            "98/98 [==============================] - 85s 872ms/step - loss: 0.0487 - acc: 0.9828 - val_loss: 0.1090 - val_acc: 0.9658\n",
            "Epoch 11/30\n",
            "98/98 [==============================] - 85s 864ms/step - loss: 0.0587 - acc: 0.9802 - val_loss: 0.0152 - val_acc: 0.9954\n",
            "Epoch 12/30\n",
            "98/98 [==============================] - 85s 872ms/step - loss: 0.0582 - acc: 0.9834 - val_loss: 0.0289 - val_acc: 0.9841\n",
            "Epoch 13/30\n",
            "98/98 [==============================] - 86s 878ms/step - loss: 0.0381 - acc: 0.9860 - val_loss: 0.0480 - val_acc: 0.9863\n",
            "Epoch 14/30\n",
            "98/98 [==============================] - 86s 878ms/step - loss: 0.0298 - acc: 0.9898 - val_loss: 0.0698 - val_acc: 0.9818\n",
            "Epoch 15/30\n",
            "98/98 [==============================] - 88s 894ms/step - loss: 0.0593 - acc: 0.9790 - val_loss: 0.0275 - val_acc: 0.9954\n",
            "Epoch 16/30\n",
            "98/98 [==============================] - 87s 891ms/step - loss: 0.0299 - acc: 0.9936 - val_loss: 0.0129 - val_acc: 0.9909\n",
            "Epoch 17/30\n",
            "98/98 [==============================] - 87s 888ms/step - loss: 0.0275 - acc: 0.9904 - val_loss: 0.0102 - val_acc: 0.9954\n",
            "Epoch 18/30\n",
            "98/98 [==============================] - 87s 890ms/step - loss: 0.0315 - acc: 0.9884 - val_loss: 0.0330 - val_acc: 0.9863\n",
            "Epoch 19/30\n",
            "98/98 [==============================] - 87s 892ms/step - loss: 0.0510 - acc: 0.9828 - val_loss: 0.0258 - val_acc: 0.9932\n",
            "Epoch 20/30\n",
            "98/98 [==============================] - 87s 887ms/step - loss: 0.0430 - acc: 0.9866 - val_loss: 0.0058 - val_acc: 0.9977\n",
            "Epoch 21/30\n",
            "98/98 [==============================] - 85s 871ms/step - loss: 0.0145 - acc: 0.9955 - val_loss: 0.0281 - val_acc: 0.9977\n",
            "Epoch 22/30\n",
            "98/98 [==============================] - 88s 893ms/step - loss: 0.0221 - acc: 0.9936 - val_loss: 0.0186 - val_acc: 0.9977\n",
            "Epoch 23/30\n",
            "98/98 [==============================] - 87s 885ms/step - loss: 0.0357 - acc: 0.9923 - val_loss: 0.0196 - val_acc: 0.9886\n",
            "Epoch 24/30\n",
            "98/98 [==============================] - 86s 881ms/step - loss: 0.0197 - acc: 0.9904 - val_loss: 0.0130 - val_acc: 0.9977\n",
            "Epoch 25/30\n",
            "98/98 [==============================] - 87s 888ms/step - loss: 0.0133 - acc: 0.9955 - val_loss: 0.0106 - val_acc: 0.9954\n",
            "Epoch 26/30\n",
            "98/98 [==============================] - 85s 872ms/step - loss: 0.0341 - acc: 0.9923 - val_loss: 0.0047 - val_acc: 0.9977\n",
            "Epoch 27/30\n",
            "98/98 [==============================] - 87s 885ms/step - loss: 0.0459 - acc: 0.9841 - val_loss: 0.0205 - val_acc: 0.9977\n",
            "Epoch 28/30\n",
            "98/98 [==============================] - 85s 871ms/step - loss: 0.0534 - acc: 0.9866 - val_loss: 0.0353 - val_acc: 0.9909\n",
            "Epoch 29/30\n",
            "98/98 [==============================] - 87s 886ms/step - loss: 0.0236 - acc: 0.9930 - val_loss: 0.0054 - val_acc: 0.9977\n",
            "Epoch 30/30\n",
            "98/98 [==============================] - 87s 884ms/step - loss: 0.0073 - acc: 0.9994 - val_loss: 0.0119 - val_acc: 0.9978\n"
          ],
          "name": "stdout"
        }
      ]
    },
    {
      "metadata": {
        "id": "wg84L4yRB7-t",
        "colab_type": "text"
      },
      "cell_type": "markdown",
      "source": [
        "# Prediction\n",
        "This prints the Neural Network's best guess of an image"
      ]
    },
    {
      "metadata": {
        "id": "meDah4mUuKf5",
        "colab_type": "code",
        "outputId": "5c8c30b6-3ca0-48fc-a099-3cfca526bdea",
        "colab": {
          "base_uri": "https://localhost:8080/",
          "height": 51
        }
      },
      "cell_type": "code",
      "source": [
        "import numpy as np\n",
        "options={0:\"lego man\", 1:\"plastic bag\"}\n",
        "from keras.preprocessing.image import img_to_array, load_img\n",
        "img = load_img('/content/drive/My Drive/ManvBag/train/lego/777.jpg',False,target_size=(img_width,img_height))\n",
        "x = img_to_array(img)\n",
        "x = np.expand_dims(x, axis=0)\n",
        "preds = model.predict_classes(x)\n",
        "prob = model.predict_proba(x)\n",
        "print(options[int(preds)])\n",
        "print(prob)\n"
      ],
      "execution_count": 0,
      "outputs": [
        {
          "output_type": "stream",
          "text": [
            "lego man\n",
            "[[1. 0.]]\n"
          ],
          "name": "stdout"
        }
      ]
    },
    {
      "metadata": {
        "id": "D5PxsoRNBQwz",
        "colab_type": "code",
        "colab": {}
      },
      "cell_type": "code",
      "source": [
        ""
      ],
      "execution_count": 0,
      "outputs": []
    }
  ]
}